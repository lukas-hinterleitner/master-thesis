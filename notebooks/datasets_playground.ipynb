{
 "cells": [
  {
   "metadata": {
    "collapsed": true,
    "ExecuteTime": {
     "end_time": "2025-07-08T17:12:34.308052Z",
     "start_time": "2025-07-08T17:12:30.688169Z"
    }
   },
   "cell_type": "code",
   "source": [
    "import torch\n",
    "import numpy as np\n",
    "import random\n",
    "import gc\n",
    "\n",
    "from src.model import get_tokenizer\n",
    "from src.preprocessing import prepare_dataset\n",
    "from src.dataset import get_paraphrased_dataset, get_model_generated_dataset, get_original_dataset\n",
    "from src.utility import pprint_messages"
   ],
   "id": "initial_id",
   "outputs": [],
   "execution_count": 1
  },
  {
   "metadata": {
    "ExecuteTime": {
     "end_time": "2025-07-08T17:12:34.424793Z",
     "start_time": "2025-07-08T17:12:34.418205Z"
    }
   },
   "cell_type": "code",
   "source": [
    "# Set seeds for reproducibility\n",
    "torch.manual_seed(42)\n",
    "np.random.seed(42)\n",
    "random.seed(42)\n",
    "torch.backends.cudnn.deterministic = True\n",
    "torch.backends.cudnn.benchmark = False"
   ],
   "id": "90b75d9602a71805",
   "outputs": [],
   "execution_count": 2
  },
  {
   "metadata": {
    "ExecuteTime": {
     "end_time": "2025-07-08T17:12:34.585004Z",
     "start_time": "2025-07-08T17:12:34.441733Z"
    }
   },
   "cell_type": "code",
   "source": [
    "torch.cuda.empty_cache()\n",
    "gc.collect()"
   ],
   "id": "aef837f88c2ee075",
   "outputs": [
    {
     "data": {
      "text/plain": [
       "1121"
      ]
     },
     "execution_count": 3,
     "metadata": {},
     "output_type": "execute_result"
    }
   ],
   "execution_count": 3
  },
  {
   "metadata": {
    "ExecuteTime": {
     "end_time": "2025-07-08T17:12:34.614966Z",
     "start_time": "2025-07-08T17:12:34.611583Z"
    }
   },
   "cell_type": "code",
   "source": "model_name = \"amd/AMD-OLMo-1B-SFT\"",
   "id": "5d798d2ceba40a00",
   "outputs": [],
   "execution_count": 4
  },
  {
   "metadata": {
    "ExecuteTime": {
     "end_time": "2025-07-08T17:12:35.772808Z",
     "start_time": "2025-07-08T17:12:34.667731Z"
    }
   },
   "cell_type": "code",
   "source": "tokenizer = get_tokenizer(model_name)",
   "id": "76dff320a11487b1",
   "outputs": [],
   "execution_count": 5
  },
  {
   "metadata": {
    "ExecuteTime": {
     "end_time": "2025-07-08T17:12:37.244792Z",
     "start_time": "2025-07-08T17:12:37.232087Z"
    }
   },
   "cell_type": "code",
   "source": [
    "original_dataset = get_original_dataset(sample_size=None)\n",
    "pprint_messages(original_dataset[0][\"messages\"])"
   ],
   "id": "155300f20973fdc5",
   "outputs": [
    {
     "name": "stdout",
     "output_type": "stream",
     "text": [
      "==== User Message ====\n",
      "Can brain cells move? By movement I mean long distance migration (preferably within the brain only).\n",
      "\n",
      "==== Assistant Message ====\n",
      "The question is relatively broad and one should take into account that the brain not only consists of neurons, but also glial cells (supportive cells) and pre-mitotic neuronal stem cells. Furthermore, as critical fellow-scientists have indicated, developmental stage is very important, as the developing embryonic brain is very different from the adult brain.\n",
      "However, after sifting through various publications, the answer to the question is actually remarkably simple: Yes, brain cells migrate.\n",
      "In  the adult brain glial cells migrate in the brain (Klämbt, 2009). Glial cells are involved in a myriad of functions, but a notable example of migrating glial cells are the oligodendrocytes that migrate relative long distances to find their target axons onto which they wrap themselves to form the insulating myelin sheath (Tsai and Miller, 2002).\n",
      "Neuronal stem cells migrate over long distances in response to injury (Imitola et al., 2004) and they migrate from specific stem-cell locations (e.g., hippocampus and subventricular zone) to other regions (Clarke, 2003).\n",
      "Post-mitotic, but non-differentiated neurons have been shown to migrate in the adult brain in fish (Scott et al., 2012), and in mammals and non-human primates as well (Sawada et al., 2011).\n",
      "Not surprisingly, glial cells, stem cells and neurons also migrate during embryonic development. Most notably, post-mitotic neurons destined to fulfill peripheral functions have to migrate over relatively long distances from the neural crest to their target locations (Neuroscience, 2nd ed, Neuronal Migration).\n",
      "\n"
     ]
    }
   ],
   "execution_count": 6
  },
  {
   "metadata": {
    "ExecuteTime": {
     "end_time": "2025-07-08T17:12:37.815022Z",
     "start_time": "2025-07-08T17:12:37.803349Z"
    }
   },
   "cell_type": "code",
   "source": [
    "paraphrased_dataset = get_paraphrased_dataset(sample_size=None)\n",
    "pprint_messages(paraphrased_dataset[0][\"paraphrased_messages\"])"
   ],
   "id": "3d5dafdb9155c221",
   "outputs": [
    {
     "name": "stdout",
     "output_type": "stream",
     "text": [
      "==== User Message ====\n",
      "Are brain cells capable of moving? Specifically, I'm referring to long-distance migration, ideally occurring within the brain.\n",
      "\n",
      "==== Assistant Message ====\n",
      "The inquiry is quite extensive, and it’s important to recognize that the brain is made up not only of neurons but also of glial cells (supporting cells) and pre-mitotic neuronal stem cells. Additionally, as critical colleagues in research have pointed out, the developmental stage is crucial, since the developing embryonic brain is significantly different from the fully developed adult brain. Nonetheless, after reviewing various studies, the answer to the question turns out to be surprisingly straightforward: Yes, brain cells do migrate. In the adult brain, glial cells are known to migrate (Klämbt, 2009). These glial cells perform numerous functions, with a prominent example being oligodendrocytes, which migrate over considerable distances to locate their target axons and encase them to create the insulating myelin sheath (Tsai and Miller, 2002). Neuronal stem cells also migrate long distances in response to injury (Imitola et al., 2004), moving from specific stem-cell areas (such as the hippocampus and subventricular zone) to other parts of the brain (Clarke, 2003). It has been demonstrated that post-mitotic but non-differentiated neurons can migrate within the adult brain in fish (Scott et al., 2012) and also in mammals and non-human primates (Sawada et al., 2011). Unsurprisingly, glial cells, stem cells, and neurons also undergo migration during embryonic development. Most notably, post-mitotic neurons that are intended for peripheral roles must migrate over relatively long distances from the neural crest to their designated target areas (Neuroscience, 2nd ed, Neuronal Migration).\n",
      "\n"
     ]
    }
   ],
   "execution_count": 7
  },
  {
   "metadata": {
    "ExecuteTime": {
     "end_time": "2025-07-08T17:12:39.896450Z",
     "start_time": "2025-07-08T17:12:39.863124Z"
    }
   },
   "cell_type": "code",
   "source": [
    "model_generated_dataset = get_model_generated_dataset(model_name=model_name, sample_size=None)\n",
    "pprint_messages(model_generated_dataset[\"model_generated_messages\"][0])"
   ],
   "id": "742c275910007e14",
   "outputs": [
    {
     "name": "stdout",
     "output_type": "stream",
     "text": [
      "==== User Message ====\n",
      "Are brain cells capable of moving? Specifically, I'm referring to long-distance migration, ideally occurring within the brain.\n",
      "\n",
      "==== Assistant Message ====\n",
      "Brain cells, such as neurons, are indeed capable of moving. This movement is crucial for various functions, including communication between neurons and the formation of neural networks. However, the extent of brain cell movement is limited by the physical constraints of the brain's structure.\n",
      "\n",
      "Neurons are highly organized and interconnected, forming complex networks that enable the brain to process and interpret information. The movement of neurons within these networks is facilitated by the cytoskeleton, which provides structural support and allows for the movement of the cell body.\n",
      "\n",
      "While brain cells can move within the brain, the movement is typically limited to short distances and is not as extensive as the movement of neurons in other parts of the body. The brain's structure and the limitations of its physical constraints prevent the movement of brain cells over long distances.\n",
      "####\n",
      "Yes, brain cells can move, but it is limited to short distances within the brain.\n",
      "\n"
     ]
    }
   ],
   "execution_count": 8
  },
  {
   "metadata": {
    "ExecuteTime": {
     "end_time": "2025-07-08T17:12:41.087Z",
     "start_time": "2025-07-08T17:12:41.054389Z"
    }
   },
   "cell_type": "code",
   "source": "model_generated_dataset[\"model_generated_messages\"][0]",
   "id": "7bbf28c6539c0543",
   "outputs": [
    {
     "data": {
      "text/plain": [
       "[{'content': \"Are brain cells capable of moving? Specifically, I'm referring to long-distance migration, ideally occurring within the brain.\",\n",
       "  'role': 'user'},\n",
       " {'content': \"Brain cells, such as neurons, are indeed capable of moving. This movement is crucial for various functions, including communication between neurons and the formation of neural networks. However, the extent of brain cell movement is limited by the physical constraints of the brain's structure.\\n\\nNeurons are highly organized and interconnected, forming complex networks that enable the brain to process and interpret information. The movement of neurons within these networks is facilitated by the cytoskeleton, which provides structural support and allows for the movement of the cell body.\\n\\nWhile brain cells can move within the brain, the movement is typically limited to short distances and is not as extensive as the movement of neurons in other parts of the body. The brain's structure and the limitations of its physical constraints prevent the movement of brain cells over long distances.\\n####\\nYes, brain cells can move, but it is limited to short distances within the brain.\",\n",
       "  'role': 'assistant'}]"
      ]
     },
     "execution_count": 9,
     "metadata": {},
     "output_type": "execute_result"
    }
   ],
   "execution_count": 9
  },
  {
   "metadata": {},
   "cell_type": "code",
   "source": "model_generated_dataset[\"messages\"][0][1][\"content\"]",
   "id": "cf2a8d10ba1b8165",
   "outputs": [],
   "execution_count": null
  },
  {
   "metadata": {},
   "cell_type": "code",
   "source": [
    "original_dataset_config = get_dataset_config(model, sft_messages_key=\"messages\")\n",
    "original_dataset_config"
   ],
   "id": "d13c602e624eea30",
   "outputs": [],
   "execution_count": null
  },
  {
   "metadata": {},
   "cell_type": "code",
   "source": [
    "paraphrased_dataset_config = get_dataset_config(model, sft_messages_key=\"paraphrased_messages\")\n",
    "paraphrased_dataset_config"
   ],
   "id": "bbbf7cdd2344854c",
   "outputs": [],
   "execution_count": null
  },
  {
   "metadata": {},
   "cell_type": "code",
   "source": "sample_size = 5",
   "id": "9ccee89ad3c59a45",
   "outputs": [],
   "execution_count": null
  },
  {
   "metadata": {},
   "cell_type": "code",
   "source": "original_dataset_tokenized = prepare_dataset(dataset=orig, dataset_config=original_dataset_config, tokenizer=tokenizer, sample_size=sample_size)",
   "id": "ff5e7d524829ac0c",
   "outputs": [],
   "execution_count": null
  },
  {
   "metadata": {},
   "cell_type": "code",
   "source": "paraphrased_dataset_tokenized = prepare_dataset(dataset=dataset, dataset_config=paraphrased_dataset_config, tokenizer=tokenizer, sample_size=sample_size)",
   "id": "319f69f64a7945a4",
   "outputs": [],
   "execution_count": null
  },
  {
   "metadata": {},
   "cell_type": "code",
   "outputs": [],
   "execution_count": null,
   "source": "model_generated_dataset_tokenized = prepare_dataset(dataset=model_generated_dataset, dataset_config=original_dataset_config, tokenizer=tokenizer, sample_size=sample_size)",
   "id": "9d65b16c1d8a675d"
  },
  {
   "metadata": {},
   "cell_type": "code",
   "source": "gradients_sample_0 = get_gradients(model, original_dataset_tokenized[0], device=device)",
   "id": "253cc40f7e165387",
   "outputs": [],
   "execution_count": null
  },
  {
   "metadata": {},
   "cell_type": "code",
   "source": [
    "for key, value in gradients_sample_0.items():\n",
    "    print(f\"{key}: {value.shape}\")"
   ],
   "id": "4134d8fe771f09fc",
   "outputs": [],
   "execution_count": null
  },
  {
   "metadata": {},
   "cell_type": "code",
   "source": "original_dataset_tokenized[0][\"input_ids\"]",
   "id": "e88b76a8f0b311c0",
   "outputs": [],
   "execution_count": null
  },
  {
   "metadata": {},
   "cell_type": "code",
   "source": [
    "decoded_input = tokenizer.decode(token_ids=original_dataset_tokenized[0][\"input_ids\"])\n",
    "decoded_input"
   ],
   "id": "7b475b7bf6d79130",
   "outputs": [],
   "execution_count": null
  },
  {
   "metadata": {},
   "cell_type": "code",
   "source": [
    "decoded_output = tokenizer.decode(token_ids=[(tokenizer.pad_token_id if token == -100 else token) for token in original_dataset_tokenized[0][\"labels\"]])\n",
    "decoded_output"
   ],
   "id": "f1f72c44c2769e01",
   "outputs": [],
   "execution_count": null
  },
  {
   "metadata": {},
   "cell_type": "code",
   "source": "original_dataset_tokenized[0][\"input_ids\"]",
   "id": "8c0bcd284c637c72",
   "outputs": [],
   "execution_count": null
  },
  {
   "metadata": {},
   "cell_type": "code",
   "source": "output = model.generate(original_dataset_tokenized[0][\"input_ids\"].reshape(1, -1), max_new_tokens=100)",
   "id": "c711fe03d7b86166",
   "outputs": [],
   "execution_count": null
  },
  {
   "metadata": {},
   "cell_type": "code",
   "source": "dataset[0][\"messages\"][0][\"content\"]",
   "id": "27db2344bb28184d",
   "outputs": [],
   "execution_count": null
  },
  {
   "metadata": {},
   "cell_type": "code",
   "source": "inputs = tokenizer(dataset[0][\"messages\"][0][\"content\"], return_tensors=\"pt\")",
   "id": "1bba890a2fb42783",
   "outputs": [],
   "execution_count": null
  },
  {
   "metadata": {},
   "cell_type": "code",
   "source": "generate_ids = model.generate(inputs.input_ids, max_new_tokens=100, return_full_text=False)",
   "id": "ca984fcaeb688193",
   "outputs": [],
   "execution_count": null
  },
  {
   "metadata": {},
   "cell_type": "code",
   "source": "tokenizer.batch_decode(generate_ids, skip_special_tokens=True, clean_up_tokenization_spaces=False)[0]",
   "id": "1d0082b608739795",
   "outputs": [],
   "execution_count": null
  },
  {
   "metadata": {},
   "cell_type": "code",
   "source": "print(output)",
   "id": "49f0cb65163e18e9",
   "outputs": [],
   "execution_count": null
  },
  {
   "metadata": {},
   "cell_type": "code",
   "source": "tokenizer.batch_decode(output, skip_special_tokens=True, clean_up_tokenzation_spaces=False)",
   "id": "4e9f35b9942a80cc",
   "outputs": [],
   "execution_count": null
  },
  {
   "metadata": {},
   "cell_type": "code",
   "source": "dataset[0]",
   "id": "a857e5aed8d2699d",
   "outputs": [],
   "execution_count": null
  }
 ],
 "metadata": {
  "kernelspec": {
   "display_name": "Python 3",
   "language": "python",
   "name": "python3"
  },
  "language_info": {
   "codemirror_mode": {
    "name": "ipython",
    "version": 2
   },
   "file_extension": ".py",
   "mimetype": "text/x-python",
   "name": "python",
   "nbconvert_exporter": "python",
   "pygments_lexer": "ipython2",
   "version": "2.7.6"
  }
 },
 "nbformat": 4,
 "nbformat_minor": 5
}
