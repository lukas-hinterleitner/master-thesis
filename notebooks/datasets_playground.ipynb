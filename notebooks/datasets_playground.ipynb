{
 "cells": [
  {
   "metadata": {
    "collapsed": true,
    "ExecuteTime": {
     "end_time": "2025-07-05T07:45:46.827383Z",
     "start_time": "2025-07-05T07:45:31.955642Z"
    }
   },
   "cell_type": "code",
   "source": [
    "import torch\n",
    "import numpy as np\n",
    "import random\n",
    "import gc\n",
    "\n",
    "from src.model import get_tokenizer\n",
    "\n",
    "from src.dataset import get_paraphrased_dataset, get_model_generated_dataset"
   ],
   "id": "initial_id",
   "outputs": [],
   "execution_count": 1
  },
  {
   "metadata": {
    "ExecuteTime": {
     "end_time": "2025-07-05T07:45:47.248502Z",
     "start_time": "2025-07-05T07:45:47.236406Z"
    }
   },
   "cell_type": "code",
   "source": [
    "# Set seeds for reproducibility\n",
    "torch.manual_seed(42)\n",
    "np.random.seed(42)\n",
    "random.seed(42)\n",
    "torch.backends.cudnn.deterministic = True\n",
    "torch.backends.cudnn.benchmark = False"
   ],
   "id": "90b75d9602a71805",
   "outputs": [],
   "execution_count": 2
  },
  {
   "metadata": {
    "ExecuteTime": {
     "end_time": "2025-07-05T07:45:47.631001Z",
     "start_time": "2025-07-05T07:45:47.276618Z"
    }
   },
   "cell_type": "code",
   "source": [
    "torch.cuda.empty_cache()\n",
    "gc.collect()"
   ],
   "id": "aef837f88c2ee075",
   "outputs": [
    {
     "data": {
      "text/plain": [
       "1087"
      ]
     },
     "execution_count": 3,
     "metadata": {},
     "output_type": "execute_result"
    }
   ],
   "execution_count": 3
  },
  {
   "metadata": {
    "ExecuteTime": {
     "end_time": "2025-07-05T07:45:47.733319Z",
     "start_time": "2025-07-05T07:45:47.726590Z"
    }
   },
   "cell_type": "code",
   "source": "model_name = \"amd/AMD-OLMo-1B-SFT\"",
   "id": "5d798d2ceba40a00",
   "outputs": [],
   "execution_count": 4
  },
  {
   "metadata": {
    "ExecuteTime": {
     "end_time": "2025-07-05T07:45:49.109873Z",
     "start_time": "2025-07-05T07:45:47.819965Z"
    }
   },
   "cell_type": "code",
   "source": "tokenizer = get_tokenizer(model_name)",
   "id": "76dff320a11487b1",
   "outputs": [],
   "execution_count": 5
  },
  {
   "metadata": {
    "ExecuteTime": {
     "end_time": "2025-07-05T07:47:38.123494Z",
     "start_time": "2025-07-05T07:47:38.089053Z"
    }
   },
   "cell_type": "code",
   "source": [
    "paraphrased_dataset = get_paraphrased_dataset(sample_size=None)\n",
    "paraphrased_dataset"
   ],
   "id": "3d5dafdb9155c221",
   "outputs": [
    {
     "data": {
      "text/plain": [
       "Dataset({\n",
       "    features: ['id', 'paraphrased_messages'],\n",
       "    num_rows: 988\n",
       "})"
      ]
     },
     "execution_count": 9,
     "metadata": {},
     "output_type": "execute_result"
    }
   ],
   "execution_count": 9
  },
  {
   "metadata": {
    "ExecuteTime": {
     "end_time": "2025-07-05T07:45:52.340977Z",
     "start_time": "2025-07-05T07:45:52.301336Z"
    }
   },
   "cell_type": "code",
   "source": [
    "model_generated_dataset = get_model_generated_dataset(model_name=model_name, sample_size=None)\n",
    "model_generated_dataset"
   ],
   "id": "742c275910007e14",
   "outputs": [
    {
     "name": "stdout",
     "output_type": "stream",
     "text": [
      "Loaded model-generated dataset from: /home/lukashinterleitner/Documents/Master_Data_Science/Master_Thesis/src/config/../../data/datasets/model_generated/amd/AMD-OLMo-1B-SFT\n"
     ]
    },
    {
     "data": {
      "text/plain": [
       "Dataset({\n",
       "    features: ['id', 'model_generated_messages'],\n",
       "    num_rows: 988\n",
       "})"
      ]
     },
     "execution_count": 6,
     "metadata": {},
     "output_type": "execute_result"
    }
   ],
   "execution_count": 6
  },
  {
   "metadata": {
    "ExecuteTime": {
     "end_time": "2025-07-05T07:46:27.469196Z",
     "start_time": "2025-07-05T07:46:27.206562Z"
    }
   },
   "cell_type": "code",
   "source": "model_generated_dataset[\"model_generated_messages\"][0][0][\"content\"]",
   "id": "7bbf28c6539c0543",
   "outputs": [
    {
     "ename": "KeyError",
     "evalue": "0",
     "output_type": "error",
     "traceback": [
      "\u001B[31m---------------------------------------------------------------------------\u001B[39m",
      "\u001B[31mKeyError\u001B[39m                                  Traceback (most recent call last)",
      "\u001B[36mCell\u001B[39m\u001B[36m \u001B[39m\u001B[32mIn[8]\u001B[39m\u001B[32m, line 1\u001B[39m\n\u001B[32m----> \u001B[39m\u001B[32m1\u001B[39m \u001B[43mmodel_generated_dataset\u001B[49m\u001B[43m[\u001B[49m\u001B[33;43m\"\u001B[39;49m\u001B[33;43mmodel_generated_messages\u001B[39;49m\u001B[33;43m\"\u001B[39;49m\u001B[43m]\u001B[49m\u001B[43m[\u001B[49m\u001B[32;43m0\u001B[39;49m\u001B[43m]\u001B[49m\u001B[43m[\u001B[49m\u001B[32;43m0\u001B[39;49m\u001B[43m]\u001B[49m[\u001B[33m\"\u001B[39m\u001B[33mcontent\u001B[39m\u001B[33m\"\u001B[39m]\n",
      "\u001B[31mKeyError\u001B[39m: 0"
     ]
    }
   ],
   "execution_count": 8
  },
  {
   "metadata": {},
   "cell_type": "code",
   "source": "model_generated_dataset[\"messages\"][0][1][\"content\"]",
   "id": "cf2a8d10ba1b8165",
   "outputs": [],
   "execution_count": null
  },
  {
   "metadata": {},
   "cell_type": "code",
   "source": [
    "original_dataset_config = get_dataset_config(model, sft_messages_key=\"messages\")\n",
    "original_dataset_config"
   ],
   "id": "d13c602e624eea30",
   "outputs": [],
   "execution_count": null
  },
  {
   "metadata": {},
   "cell_type": "code",
   "source": [
    "paraphrased_dataset_config = get_dataset_config(model, sft_messages_key=\"paraphrased_messages\")\n",
    "paraphrased_dataset_config"
   ],
   "id": "bbbf7cdd2344854c",
   "outputs": [],
   "execution_count": null
  },
  {
   "metadata": {},
   "cell_type": "code",
   "source": "sample_size = 5",
   "id": "9ccee89ad3c59a45",
   "outputs": [],
   "execution_count": null
  },
  {
   "metadata": {},
   "cell_type": "code",
   "source": "original_dataset_tokenized = prepare_dataset(dataset=dataset, dataset_config=original_dataset_config, tokenizer=tokenizer, sample_size=sample_size)",
   "id": "ff5e7d524829ac0c",
   "outputs": [],
   "execution_count": null
  },
  {
   "metadata": {},
   "cell_type": "code",
   "source": "paraphrased_dataset_tokenized = prepare_dataset(dataset=dataset, dataset_config=paraphrased_dataset_config, tokenizer=tokenizer, sample_size=sample_size)",
   "id": "319f69f64a7945a4",
   "outputs": [],
   "execution_count": null
  },
  {
   "metadata": {},
   "cell_type": "code",
   "source": "gradients_sample_0 = get_gradients(model, original_dataset_tokenized[0], device=device)",
   "id": "253cc40f7e165387",
   "outputs": [],
   "execution_count": null
  },
  {
   "metadata": {},
   "cell_type": "code",
   "source": [
    "for key, value in gradients_sample_0.items():\n",
    "    print(f\"{key}: {value.shape}\")"
   ],
   "id": "4134d8fe771f09fc",
   "outputs": [],
   "execution_count": null
  },
  {
   "metadata": {},
   "cell_type": "code",
   "source": "original_dataset_tokenized[0][\"input_ids\"]",
   "id": "e88b76a8f0b311c0",
   "outputs": [],
   "execution_count": null
  },
  {
   "metadata": {},
   "cell_type": "code",
   "source": [
    "decoded_input = tokenizer.decode(token_ids=original_dataset_tokenized[0][\"input_ids\"])\n",
    "decoded_input"
   ],
   "id": "7b475b7bf6d79130",
   "outputs": [],
   "execution_count": null
  },
  {
   "metadata": {},
   "cell_type": "code",
   "source": [
    "decoded_output = tokenizer.decode(token_ids=[(tokenizer.pad_token_id if token == -100 else token) for token in original_dataset_tokenized[0][\"labels\"]])\n",
    "decoded_output"
   ],
   "id": "f1f72c44c2769e01",
   "outputs": [],
   "execution_count": null
  },
  {
   "metadata": {},
   "cell_type": "code",
   "source": "original_dataset_tokenized[0][\"input_ids\"]",
   "id": "8c0bcd284c637c72",
   "outputs": [],
   "execution_count": null
  },
  {
   "metadata": {},
   "cell_type": "code",
   "source": "output = model.generate(original_dataset_tokenized[0][\"input_ids\"].reshape(1, -1), max_new_tokens=100)",
   "id": "c711fe03d7b86166",
   "outputs": [],
   "execution_count": null
  },
  {
   "metadata": {},
   "cell_type": "code",
   "source": "dataset[0][\"messages\"][0][\"content\"]",
   "id": "27db2344bb28184d",
   "outputs": [],
   "execution_count": null
  },
  {
   "metadata": {},
   "cell_type": "code",
   "source": "inputs = tokenizer(dataset[0][\"messages\"][0][\"content\"], return_tensors=\"pt\")",
   "id": "1bba890a2fb42783",
   "outputs": [],
   "execution_count": null
  },
  {
   "metadata": {},
   "cell_type": "code",
   "source": "generate_ids = model.generate(inputs.input_ids, max_new_tokens=100, return_full_text=False)",
   "id": "ca984fcaeb688193",
   "outputs": [],
   "execution_count": null
  },
  {
   "metadata": {},
   "cell_type": "code",
   "source": "tokenizer.batch_decode(generate_ids, skip_special_tokens=True, clean_up_tokenization_spaces=False)[0]",
   "id": "1d0082b608739795",
   "outputs": [],
   "execution_count": null
  },
  {
   "metadata": {},
   "cell_type": "code",
   "source": "print(output)",
   "id": "49f0cb65163e18e9",
   "outputs": [],
   "execution_count": null
  },
  {
   "metadata": {},
   "cell_type": "code",
   "source": "tokenizer.batch_decode(output, skip_special_tokens=True, clean_up_tokenzation_spaces=False)",
   "id": "4e9f35b9942a80cc",
   "outputs": [],
   "execution_count": null
  },
  {
   "metadata": {},
   "cell_type": "code",
   "source": "dataset[0]",
   "id": "a857e5aed8d2699d",
   "outputs": [],
   "execution_count": null
  }
 ],
 "metadata": {
  "kernelspec": {
   "display_name": "Python 3",
   "language": "python",
   "name": "python3"
  },
  "language_info": {
   "codemirror_mode": {
    "name": "ipython",
    "version": 2
   },
   "file_extension": ".py",
   "mimetype": "text/x-python",
   "name": "python",
   "nbconvert_exporter": "python",
   "pygments_lexer": "ipython2",
   "version": "2.7.6"
  }
 },
 "nbformat": 4,
 "nbformat_minor": 5
}
