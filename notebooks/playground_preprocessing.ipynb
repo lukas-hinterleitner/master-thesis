{
 "cells": [
  {
   "cell_type": "code",
   "id": "initial_id",
   "metadata": {
    "collapsed": true,
    "ExecuteTime": {
     "end_time": "2025-08-15T14:25:06.856985Z",
     "start_time": "2025-08-15T14:25:03.079395Z"
    }
   },
   "source": [
    "import torch\n",
    "import numpy as np\n",
    "import random\n",
    "import gc\n",
    "\n",
    "from src.model import get_model, get_tokenizer\n",
    "from src.dataset import get_paraphrased_dataset_tokenized, get_original_dataset_tokenized"
   ],
   "outputs": [
    {
     "name": "stderr",
     "output_type": "stream",
     "text": [
      "/home/lukashinterleitner/Documents/Master_Data_Science/Master_Thesis/.venv/lib/python3.12/site-packages/tqdm/auto.py:21: TqdmWarning: IProgress not found. Please update jupyter and ipywidgets. See https://ipywidgets.readthedocs.io/en/stable/user_install.html\n",
      "  from .autonotebook import tqdm as notebook_tqdm\n"
     ]
    }
   ],
   "execution_count": 1
  },
  {
   "metadata": {
    "ExecuteTime": {
     "end_time": "2025-08-15T14:25:06.871377Z",
     "start_time": "2025-08-15T14:25:06.867965Z"
    }
   },
   "cell_type": "code",
   "source": [
    "# Set seeds for reproducibility\n",
    "torch.manual_seed(42)\n",
    "np.random.seed(42)\n",
    "random.seed(42)\n",
    "torch.backends.cudnn.deterministic = True\n",
    "torch.backends.cudnn.benchmark = False"
   ],
   "id": "524a4eae9f8afa6f",
   "outputs": [],
   "execution_count": 2
  },
  {
   "metadata": {
    "ExecuteTime": {
     "end_time": "2025-08-15T14:25:07.032310Z",
     "start_time": "2025-08-15T14:25:06.915345Z"
    }
   },
   "cell_type": "code",
   "source": [
    "torch.cuda.empty_cache()\n",
    "gc.collect()"
   ],
   "id": "5e0fe7a9a19ec85d",
   "outputs": [
    {
     "data": {
      "text/plain": [
       "0"
      ]
     },
     "execution_count": 3,
     "metadata": {},
     "output_type": "execute_result"
    }
   ],
   "execution_count": 3
  },
  {
   "metadata": {
    "ExecuteTime": {
     "end_time": "2025-08-15T14:25:07.080556Z",
     "start_time": "2025-08-15T14:25:07.078597Z"
    }
   },
   "cell_type": "code",
   "source": "model_name = \"amd/AMD-OLMo-1B-SFT\"",
   "id": "ec6e5c857cd2d116",
   "outputs": [],
   "execution_count": 4
  },
  {
   "metadata": {
    "ExecuteTime": {
     "end_time": "2025-08-15T14:25:08.293395Z",
     "start_time": "2025-08-15T14:25:07.126576Z"
    }
   },
   "cell_type": "code",
   "source": [
    "model = get_model(model_name, torch.device(\"cpu\"))\n",
    "tokenizer = get_tokenizer(model_name)"
   ],
   "id": "bcb037724eaed310",
   "outputs": [
    {
     "name": "stdout",
     "output_type": "stream",
     "text": [
      "Device: cpu\n",
      "Model parameters: 1176764416\n",
      "==================================================\n",
      "OlmoForCausalLM(\n",
      "  (model): OlmoModel(\n",
      "    (embed_tokens): Embedding(50304, 2048, padding_idx=1)\n",
      "    (layers): ModuleList(\n",
      "      (0-15): 16 x OlmoDecoderLayer(\n",
      "        (self_attn): OlmoAttention(\n",
      "          (q_proj): Linear(in_features=2048, out_features=2048, bias=False)\n",
      "          (k_proj): Linear(in_features=2048, out_features=2048, bias=False)\n",
      "          (v_proj): Linear(in_features=2048, out_features=2048, bias=False)\n",
      "          (o_proj): Linear(in_features=2048, out_features=2048, bias=False)\n",
      "        )\n",
      "        (mlp): OlmoMLP(\n",
      "          (gate_proj): Linear(in_features=2048, out_features=8192, bias=False)\n",
      "          (up_proj): Linear(in_features=2048, out_features=8192, bias=False)\n",
      "          (down_proj): Linear(in_features=8192, out_features=2048, bias=False)\n",
      "          (act_fn): SiLU()\n",
      "        )\n",
      "        (input_layernorm): OlmoLayerNorm()\n",
      "        (post_attention_layernorm): OlmoLayerNorm()\n",
      "      )\n",
      "    )\n",
      "    (norm): OlmoLayerNorm()\n",
      "    (rotary_emb): OlmoRotaryEmbedding()\n",
      "  )\n",
      "  (lm_head): Linear(in_features=2048, out_features=50304, bias=False)\n",
      ")\n"
     ]
    }
   ],
   "execution_count": 5
  },
  {
   "metadata": {
    "ExecuteTime": {
     "end_time": "2025-08-15T14:25:10.892143Z",
     "start_time": "2025-08-15T14:25:08.346831Z"
    }
   },
   "cell_type": "code",
   "source": "paraphrased_sample_0_tokenized = get_paraphrased_dataset_tokenized(model, tokenizer, sample_size=1)[0]",
   "id": "edd78f75f545424d",
   "outputs": [
    {
     "name": "stderr",
     "output_type": "stream",
     "text": [
      "Tokenizing and reformatting SFT data: 100%|██████████| 1/1 [00:00<00:00, 79.71 examples/s]\n",
      "Filtering SFT data: 100%|██████████| 1/1 [00:00<00:00, 282.24 examples/s]\n"
     ]
    }
   ],
   "execution_count": 6
  },
  {
   "metadata": {
    "ExecuteTime": {
     "end_time": "2025-08-15T14:25:10.951441Z",
     "start_time": "2025-08-15T14:25:10.943728Z"
    }
   },
   "cell_type": "code",
   "source": "paraphrased_sample_0_tokenized",
   "id": "61469684c535c07b",
   "outputs": [
    {
     "data": {
      "text/plain": [
       "{'id': 'lima_0',\n",
       " 'paraphrased_messages': [{'content': \"Are brain cells capable of moving? Specifically, I'm referring to long-distance migration, ideally occurring within the brain.\",\n",
       "   'role': 'user'},\n",
       "  {'content': 'The inquiry is quite extensive, and it’s important to recognize that the brain is made up not only of neurons but also of glial cells (supporting cells) and pre-mitotic neuronal stem cells. Additionally, as critical colleagues in research have pointed out, the developmental stage is crucial, since the developing embryonic brain is significantly different from the fully developed adult brain. Nonetheless, after reviewing various studies, the answer to the question turns out to be surprisingly straightforward: Yes, brain cells do migrate. In the adult brain, glial cells are known to migrate (Klämbt, 2009). These glial cells perform numerous functions, with a prominent example being oligodendrocytes, which migrate over considerable distances to locate their target axons and encase them to create the insulating myelin sheath (Tsai and Miller, 2002). Neuronal stem cells also migrate long distances in response to injury (Imitola et al., 2004), moving from specific stem-cell areas (such as the hippocampus and subventricular zone) to other parts of the brain (Clarke, 2003). It has been demonstrated that post-mitotic but non-differentiated neurons can migrate within the adult brain in fish (Scott et al., 2012) and also in mammals and non-human primates (Sawada et al., 2011). Unsurprisingly, glial cells, stem cells, and neurons also undergo migration during embryonic development. Most notably, post-mitotic neurons that are intended for peripheral roles must migrate over relatively long distances from the neural crest to their designated target areas (Neuroscience, 2nd ed, Neuronal Migration).',\n",
       "   'role': 'assistant'}],\n",
       " 'input_ids_prompt': tensor([   29,    93,  4537, 49651,   187,  6723,  3998,  1341,  7032,   273,\n",
       "          4886,    32, 13658,    13,   309,  1353, 14339,   281,  1048,    14,\n",
       "         19893, 10346,    13, 34243, 12952,  1561,   253,  3998,    15,   187,\n",
       "            29,    93,   515,  5567, 49651,   187]),\n",
       " 'input_ids': tensor([   29,    93,  4537, 49651,   187,  6723,  3998,  1341,  7032,   273,\n",
       "          4886,    32, 13658,    13,   309,  1353, 14339,   281,  1048,    14,\n",
       "         19893, 10346,    13, 34243, 12952,  1561,   253,  3998,    15,   187,\n",
       "            29,    93,   515,  5567, 49651,   187,   510, 14392,   310,  3240,\n",
       "          9470,    13,   285,   352,   457,    84,  1774,   281,  9446,   326,\n",
       "           253,  3998,   310,  1160,   598,   417,   760,   273,  8512,   533,\n",
       "           671,   273, 42782,  1341,   313,  4032, 12655,  1341,    10,   285,\n",
       "           638,    14,  2225,  3875, 16069,  8424,  1341,    15,  9157,    13,\n",
       "           347,  4619, 11651,   275,  2561,   452,  8042,   562,    13,   253,\n",
       "         16743,  3924,   310,  9560,    13,  1580,   253,  6684, 24022,  3998,\n",
       "           310,  3012,  1027,   432,   253,  4751,  3715,  6782,  3998,    15,\n",
       "         24883,    13,   846, 16725,  2710,  2175,    13,   253,  3662,   281,\n",
       "           253,  1953,  7819,   562,   281,   320, 19143, 15246,    27,  6279,\n",
       "            13,  3998,  1341,   513, 31690,    15,   496,   253,  6782,  3998,\n",
       "            13, 42782,  1341,   403,  1929,   281, 31690,   313,    44, 42824,\n",
       "          1814,    85,    13,  4748,   481,  2053, 42782,  1341,  1347,  7418,\n",
       "          3470,    13,   342,   247, 11906,  1650,  1146, 13081, 45813, 20158,\n",
       "            13,   534, 31690,   689, 10665, 13849,   281, 19912,   616,  2303,\n",
       "         41382,   285,  2349,   511,   731,   281,  2794,   253, 22831, 16203,\n",
       "           249, 30334,   313, 27415,  2284,   285, 11418,    13,  6752,   481,\n",
       "          3532,   321,  2814,  8424,  1341,   671, 31690,  1048, 13849,   275,\n",
       "          2380,   281,  4975,   313,    42,  2225,  6836,  1162,   355,   904,\n",
       "          6157,   582,  4886,   432,  2173,  8424,    14,  3992,  3672,   313,\n",
       "         10328,   347,   253, 26382,   285,   749,  2254, 13267,  8232,    10,\n",
       "           281,   643,  4243,   273,   253,  3998,   313,  2019,   274,   413,\n",
       "            13,  6469,   481,   733,   556,   644,  5183,   326,  1501,    14,\n",
       "          2225,  3875,   533,  1327,    14, 19623,  4215,  8512,   476, 31690,\n",
       "          1561,   253,  6782,  3998,   275,  6773,   313, 22384,  1162,   355,\n",
       "           904,  4050,    10,   285,   671,   275, 25045,   285,  1327,    14,\n",
       "         13961, 47063,   313,    52,  1403,  2960,  1162,   355,   904,  4332,\n",
       "           481,   914,  9960, 28761,    13, 42782,  1341,    13,  8424,  1341,\n",
       "            13,   285,  8512,   671, 15080, 10346,  1309, 24022,  2440,    15,\n",
       "          5595, 19836,    13,  1501,    14,  2225,  3875,  8512,   326,   403,\n",
       "          6034,   323, 10844,  9503,  1364, 31690,   689,  4942,  1048, 13849,\n",
       "           432,   253, 11454, 30402,   281,   616, 13205,  2303,  3672,   313,\n",
       "          6560,  1822, 21559,    13,   374,  2109,  1407,    13,  3532,   321,\n",
       "          2814, 49063,   481, 50279]),\n",
       " 'attention_mask': tensor([1, 1, 1, 1, 1, 1, 1, 1, 1, 1, 1, 1, 1, 1, 1, 1, 1, 1, 1, 1, 1, 1, 1, 1,\n",
       "         1, 1, 1, 1, 1, 1, 1, 1, 1, 1, 1, 1, 1, 1, 1, 1, 1, 1, 1, 1, 1, 1, 1, 1,\n",
       "         1, 1, 1, 1, 1, 1, 1, 1, 1, 1, 1, 1, 1, 1, 1, 1, 1, 1, 1, 1, 1, 1, 1, 1,\n",
       "         1, 1, 1, 1, 1, 1, 1, 1, 1, 1, 1, 1, 1, 1, 1, 1, 1, 1, 1, 1, 1, 1, 1, 1,\n",
       "         1, 1, 1, 1, 1, 1, 1, 1, 1, 1, 1, 1, 1, 1, 1, 1, 1, 1, 1, 1, 1, 1, 1, 1,\n",
       "         1, 1, 1, 1, 1, 1, 1, 1, 1, 1, 1, 1, 1, 1, 1, 1, 1, 1, 1, 1, 1, 1, 1, 1,\n",
       "         1, 1, 1, 1, 1, 1, 1, 1, 1, 1, 1, 1, 1, 1, 1, 1, 1, 1, 1, 1, 1, 1, 1, 1,\n",
       "         1, 1, 1, 1, 1, 1, 1, 1, 1, 1, 1, 1, 1, 1, 1, 1, 1, 1, 1, 1, 1, 1, 1, 1,\n",
       "         1, 1, 1, 1, 1, 1, 1, 1, 1, 1, 1, 1, 1, 1, 1, 1, 1, 1, 1, 1, 1, 1, 1, 1,\n",
       "         1, 1, 1, 1, 1, 1, 1, 1, 1, 1, 1, 1, 1, 1, 1, 1, 1, 1, 1, 1, 1, 1, 1, 1,\n",
       "         1, 1, 1, 1, 1, 1, 1, 1, 1, 1, 1, 1, 1, 1, 1, 1, 1, 1, 1, 1, 1, 1, 1, 1,\n",
       "         1, 1, 1, 1, 1, 1, 1, 1, 1, 1, 1, 1, 1, 1, 1, 1, 1, 1, 1, 1, 1, 1, 1, 1,\n",
       "         1, 1, 1, 1, 1, 1, 1, 1, 1, 1, 1, 1, 1, 1, 1, 1, 1, 1, 1, 1, 1, 1, 1, 1,\n",
       "         1, 1, 1, 1, 1, 1, 1, 1, 1, 1, 1, 1, 1, 1, 1, 1, 1, 1, 1, 1, 1, 1, 1, 1,\n",
       "         1, 1, 1, 1, 1, 1, 1, 1, 1, 1, 1, 1, 1, 1, 1, 1, 1, 1, 1, 1, 1, 1, 1, 1,\n",
       "         1, 1, 1, 1]),\n",
       " 'labels': tensor([ -100,  -100,  -100,  -100,  -100,  -100,  -100,  -100,  -100,  -100,\n",
       "          -100,  -100,  -100,  -100,  -100,  -100,  -100,  -100,  -100,  -100,\n",
       "          -100,  -100,  -100,  -100,  -100,  -100,  -100,  -100,  -100,  -100,\n",
       "          -100,  -100,  -100,  -100,  -100,  -100,   510, 14392,   310,  3240,\n",
       "          9470,    13,   285,   352,   457,    84,  1774,   281,  9446,   326,\n",
       "           253,  3998,   310,  1160,   598,   417,   760,   273,  8512,   533,\n",
       "           671,   273, 42782,  1341,   313,  4032, 12655,  1341,    10,   285,\n",
       "           638,    14,  2225,  3875, 16069,  8424,  1341,    15,  9157,    13,\n",
       "           347,  4619, 11651,   275,  2561,   452,  8042,   562,    13,   253,\n",
       "         16743,  3924,   310,  9560,    13,  1580,   253,  6684, 24022,  3998,\n",
       "           310,  3012,  1027,   432,   253,  4751,  3715,  6782,  3998,    15,\n",
       "         24883,    13,   846, 16725,  2710,  2175,    13,   253,  3662,   281,\n",
       "           253,  1953,  7819,   562,   281,   320, 19143, 15246,    27,  6279,\n",
       "            13,  3998,  1341,   513, 31690,    15,   496,   253,  6782,  3998,\n",
       "            13, 42782,  1341,   403,  1929,   281, 31690,   313,    44, 42824,\n",
       "          1814,    85,    13,  4748,   481,  2053, 42782,  1341,  1347,  7418,\n",
       "          3470,    13,   342,   247, 11906,  1650,  1146, 13081, 45813, 20158,\n",
       "            13,   534, 31690,   689, 10665, 13849,   281, 19912,   616,  2303,\n",
       "         41382,   285,  2349,   511,   731,   281,  2794,   253, 22831, 16203,\n",
       "           249, 30334,   313, 27415,  2284,   285, 11418,    13,  6752,   481,\n",
       "          3532,   321,  2814,  8424,  1341,   671, 31690,  1048, 13849,   275,\n",
       "          2380,   281,  4975,   313,    42,  2225,  6836,  1162,   355,   904,\n",
       "          6157,   582,  4886,   432,  2173,  8424,    14,  3992,  3672,   313,\n",
       "         10328,   347,   253, 26382,   285,   749,  2254, 13267,  8232,    10,\n",
       "           281,   643,  4243,   273,   253,  3998,   313,  2019,   274,   413,\n",
       "            13,  6469,   481,   733,   556,   644,  5183,   326,  1501,    14,\n",
       "          2225,  3875,   533,  1327,    14, 19623,  4215,  8512,   476, 31690,\n",
       "          1561,   253,  6782,  3998,   275,  6773,   313, 22384,  1162,   355,\n",
       "           904,  4050,    10,   285,   671,   275, 25045,   285,  1327,    14,\n",
       "         13961, 47063,   313,    52,  1403,  2960,  1162,   355,   904,  4332,\n",
       "           481,   914,  9960, 28761,    13, 42782,  1341,    13,  8424,  1341,\n",
       "            13,   285,  8512,   671, 15080, 10346,  1309, 24022,  2440,    15,\n",
       "          5595, 19836,    13,  1501,    14,  2225,  3875,  8512,   326,   403,\n",
       "          6034,   323, 10844,  9503,  1364, 31690,   689,  4942,  1048, 13849,\n",
       "           432,   253, 11454, 30402,   281,   616, 13205,  2303,  3672,   313,\n",
       "          6560,  1822, 21559,    13,   374,  2109,  1407,    13,  3532,   321,\n",
       "          2814, 49063,   481, 50279])}"
      ]
     },
     "execution_count": 7,
     "metadata": {},
     "output_type": "execute_result"
    }
   ],
   "execution_count": 7
  },
  {
   "metadata": {
    "ExecuteTime": {
     "end_time": "2025-08-15T14:25:13.103573Z",
     "start_time": "2025-08-15T14:25:10.994657Z"
    }
   },
   "cell_type": "code",
   "source": "original_dataset_tokenized = get_original_dataset_tokenized(model, tokenizer)",
   "id": "c2a5ece0fb0b53a9",
   "outputs": [],
   "execution_count": 8
  },
  {
   "metadata": {
    "ExecuteTime": {
     "end_time": "2025-08-15T14:25:13.165718Z",
     "start_time": "2025-08-15T14:25:13.156661Z"
    }
   },
   "cell_type": "code",
   "source": [
    "print(len(tokenizer.apply_chat_template(original_dataset_tokenized[714][\"messages\"])))\n",
    "print(tokenizer.apply_chat_template(original_dataset_tokenized[714][\"messages\"]))"
   ],
   "id": "f5f64b41a43d5b12",
   "outputs": [
    {
     "name": "stdout",
     "output_type": "stream",
     "text": [
      "831\n",
      "[29, 93, 4537, 49651, 187, 2347, 281, 3812, 2860, 254, 948, 10836, 32, 187, 29, 93, 515, 5567, 49651, 187, 41, 8056, 29480, 310, 247, 7561, 43455, 28224, 1894, 13, 275, 629, 984, 273, 253, 18395, 273, 380, 3759, 793, 790, 28224, 2962, 13, 285, 671, 984, 273, 521, 389, 474, 6779, 273, 2448, 2444, 966, 44720, 15, 380, 1563, 3662, 588, 921, 368, 849, 281, 3812, 779, 13, 3213, 14, 1615, 14, 10539, 15, 187, 187, 817, 43051, 434, 1481, 187, 187, 18, 15, 24440, 581, 9096, 15, 831, 588, 320, 253, 5130, 15, 187, 19, 15, 24440, 247, 1355, 9096, 13, 670, 2716, 253, 1979, 273, 253, 643, 581, 15, 187, 20, 15, 24440, 247, 36128, 4951, 1386, 432, 253, 990, 273, 253, 11480, 281, 253, 5130, 15, 187, 21, 15, 24440, 1529, 9096, 13, 253, 1072, 1979, 347, 253, 5130, 15, 733, 1364, 320, 4555, 275, 1386, 342, 352, 13, 36128, 15, 733, 1364, 686, 13585, 8, 1475, 253, 11480, 15, 187, 22, 15, 8024, 511, 253, 4243, 326, 14787, 253, 11480, 285, 253, 806, 5130, 13, 347, 253, 806, 5130, 943, 320, 625, 275, 253, 35936, 15, 187, 23, 15, 24440, 247, 22627, 1386, 326, 33902, 432, 253, 5004, 1127, 273, 253, 11480, 13, 281, 670, 275, 1386, 342, 253, 2080, 1930, 273, 253, 806, 5130, 15, 187, 24, 15, 24440, 1529, 22627, 1386, 432, 253, 1072, 1127, 347, 253, 2045, 581, 13, 533, 13458, 1066, 13, 275, 247, 6420, 14, 26139, 3884, 15, 7850, 2978, 1364, 320, 670, 253, 4898, 273, 581, 273, 253, 2927, 15, 187, 25, 15, 24440, 1529, 22627, 1386, 432, 253, 19083, 1127, 273, 253, 1390, 581, 13, 13458, 5777, 1066, 15, 7850, 2978, 588, 320, 253, 1072, 347, 253, 9118, 4898, 273, 253, 11480, 15, 187, 26, 15, 24440, 247, 1355, 22627, 1386, 13, 5777, 4577, 685, 253, 1390, 581, 13, 326, 4566, 432, 253, 19083, 1127, 273, 253, 1390, 581, 13, 13458, 6420, 14, 8535, 15, 187, 740, 15, 4325, 253, 12365, 1127, 273, 253, 1386, 275, 18952, 898, 13, 3812, 2568, 1529, 22627, 1386, 326, 2792, 6420, 14, 26139, 13, 326, 310, 5777, 3356, 685, 253, 9118, 4898, 273, 581, 273, 253, 2927, 15, 187, 883, 15, 24440, 247, 22627, 1386, 432, 253, 1127, 273, 253, 1390, 581, 13, 281, 253, 1127, 273, 253, 581, 275, 18952, 1249, 15, 187, 805, 15, 5733, 667, 2048, 273, 634, 4327, 281, 253, 6208, 15, 187, 1012, 15, 24440, 247, 9096, 326, 310, 670, 253, 1979, 273, 253, 22627, 629, 273, 43051, 434, 19567, 313, 2887, 5406, 1840, 481, 775, 412, 745, 2716, 281, 1056, 352, 247, 10020, 14, 23118, 13, 533, 387, 271, 6907, 15, 187, 1047, 15, 17097, 253, 40296, 1426, 282, 281, 247, 7470, 1127, 15, 187, 1010, 15, 10338, 247, 1355, 32163, 1840, 253, 1273, 5130, 313, 2887, 5406, 481, 187, 1036, 15, 24440, 247, 4951, 1386, 432, 253, 1755, 273, 253, 32163, 13, 281, 253, 5004, 273, 253, 40296, 1426, 282, 15, 187, 1166, 15, 24440, 247, 22627, 1386, 432, 253, 643, 1127, 273, 253, 19567, 40296, 1426, 282, 326, 33902, 512, 253, 1039, 1066, 2469, 253, 6208, 15, 187, 1093, 15, 13119, 247, 9096, 670, 2716, 253, 1979, 273, 253, 5130, 13, 285, 2624, 247, 1355, 629, 745, 15, 831, 588, 320, 253, 2472, 15, 187, 746, 15, 24440, 253, 1386, 326, 4620, 327, 2860, 398, 2472, 9, 2887, 5406, 481, 187, 938, 15, 5733, 253, 767, 22627, 39746, 387, 253, 1755, 13, 285, 253, 643, 4394, 816, 1840, 253, 2472, 15, 187, 1797, 15, 5733, 30980, 281, 253, 2927, 387, 667, 6799, 1127, 15, 187, 1423, 15, 36529, 253, 2454, 285, 43051, 434, 29970, 342, 4569, 22290, 15, 535, 187, 817, 43051, 434, 2454, 285, 2133, 187, 187, 18, 15, 24440, 374, 14240, 347, 2927, 15, 13470, 767, 20200, 323, 253, 30980, 275, 1097, 14240, 15, 187, 19, 15, 24440, 253, 11480, 16745, 347, 247, 40741, 762, 253, 2927, 15, 187, 20, 15, 24440, 247, 6026, 326, 310, 13458, 281, 253, 1669, 323, 253, 806, 629, 323, 253, 6208, 15, 187, 21, 15, 24440, 1529, 6026, 326, 310, 8042, 281, 253, 987, 285, 310, 4802, 281, 253, 643, 6026, 15, 187, 22, 15, 24440, 43051, 434, 1481, 1840, 521, 2927, 15, 187, 23, 15, 24440, 521, 4707, 2403, 577, 2716, 14240, 15, 187, 24, 15, 24440, 43051, 434, 7623, 285, 2472, 13, 323, 253, 2472, 368, 476, 3365, 3812, 247, 2716, 273, 247, 1355, 9096, 15, 187, 25, 15, 24440, 253, 23966, 987, 762, 521, 7623, 15, 187, 26, 15, 24440, 762, 253, 23966, 43051, 434, 3034, 2577, 15, 187, 740, 15, 24440, 253, 374, 37318, 432, 521, 14133, 15, 187, 883, 15, 24440, 762, 521, 22910, 521, 4430, 342, 253, 1133, 15, 187, 805, 15, 24440, 253, 1265, 273, 521, 19110, 285, 9246, 15, 187, 1012, 15, 24440, 521, 1791, 285, 22756, 762, 521, 7985, 4430, 15, 187, 1047, 15, 24440, 521, 643, 1791, 285, 22756, 1735, 281, 253, 643, 581, 15, 187, 50279]\n"
     ]
    }
   ],
   "execution_count": 9
  },
  {
   "metadata": {
    "ExecuteTime": {
     "end_time": "2025-08-15T14:25:13.211002Z",
     "start_time": "2025-08-15T14:25:13.206752Z"
    }
   },
   "cell_type": "code",
   "source": [
    "print(original_dataset_tokenized[714][\"input_ids\"].shape)\n",
    "print(original_dataset_tokenized[714][\"labels\"].shape)"
   ],
   "id": "a26ac3aa919b3ef6",
   "outputs": [
    {
     "name": "stdout",
     "output_type": "stream",
     "text": [
      "torch.Size([831])\n",
      "torch.Size([831])\n"
     ]
    }
   ],
   "execution_count": 10
  },
  {
   "metadata": {
    "ExecuteTime": {
     "end_time": "2025-08-15T14:25:32.547734Z",
     "start_time": "2025-08-15T14:25:32.544317Z"
    }
   },
   "cell_type": "code",
   "source": "original_dataset_tokenized[714][\"id\"]",
   "id": "1b1753f460141f2c",
   "outputs": [
    {
     "data": {
      "text/plain": [
       "'lima_772'"
      ]
     },
     "execution_count": 12,
     "metadata": {},
     "output_type": "execute_result"
    }
   ],
   "execution_count": 12
  },
  {
   "metadata": {
    "ExecuteTime": {
     "end_time": "2025-08-15T14:25:13.257866Z",
     "start_time": "2025-08-15T14:25:13.253546Z"
    }
   },
   "cell_type": "code",
   "source": "original_dataset_tokenized[714][\"messages\"]",
   "id": "4fe140dc2e0dbf47",
   "outputs": [
    {
     "data": {
      "text/plain": [
       "[{'role': 'user', 'content': 'How to draw homer simpson?'},\n",
       " {'role': 'assistant',\n",
       "  'content': \"Homer Simpson is a widely recognizable cartoon character, in part because of the popularity of The Simpsons cartoon series, and also because of his comical representation of American working class stereotypes. The following answer will show you how to draw him, step-by-step.\\n\\n## Homer's head\\n\\n1. Draw one circle. This will be the eye.\\n2. Draw a small circle, about half the size of the other one.\\n3. Draw a horizontally straight line from the end of the nose to the eye.\\n4. Draw another circle, the same size as the eye. It must be exactly in line with it, horizontally. It must 'wrap' around the nose.\\n5. Erase the parts that overlap the nose and the first eye, as the first eye should be more in the foreground.\\n6. Draw a curved line that stretches from the bottom point of the nose, to about in line with the far side of the first eye.\\n7. Draw another curved line from the same point as the previous one, but pointing down, in a south-east direction. Its length must be about the height of one of the eyes.\\n8. Draw another curved line from the finishing point of the last one, pointing slightly down. Its length will be the same as the vertical height of the nose.\\n9. Draw a small curved line, slightly smaller than the last one, that goes from the finishing point of the last one, pointing south-west.\\n10. From the ending point of the line in Step 9, draw yet another curved line that points south-east, that is slightly longer than the vertical height of one of the eyes.\\n11. Draw a curved line from the point of the last one, to the point of the one in Step 12.\\n12. Add any expression of your choice to the mouth.\\n13. Draw a circle that is about the size of the curved part of Homer's skull (see picture above). Chop off half to make it a semi-circle, but at an angle.\\n14. Move the semicircle to a suitable point.\\n15. Make a small lump above the second eye (see picture).\\n16. Draw a straight line from the top of the lump, to the bottom of the semicircle.\\n17. Draw a curved line from the other point of the skull semicircle that stretches all the way down past the mouth.\\n18. Create a circle about half the size of the eye, and cut a small part off. This will be the ear.\\n19. Draw the line that appears on homers ear(see picture).\\n20. Add the two curved hairs at the top, and the other ones just above the ear.\\n21. Add pupils to the eyes at any desired point.\\n22. Fill the face and Homer's beard with appropriate colours.\\n\\n\\n## Homer's face and body\\n\\n1. Draw 2 circles as eyes. Place two dots for the pupils in both circles.\\n2. Draw the nose shaped as a sausage under the eyes.\\n3. Draw a bow that is pointing to the left for the first part for the mouth.\\n4. Draw another bow that is pointed to the right and is connected to the other bow.\\n5. Draw Homer's head above his eyes.\\n6. Draw his hair making 4 half circles.\\n7. Draw Homer's neck and ear, for the ear you can simply draw a half of a small circle.\\n8. Draw the collar right under his neck.\\n9. Draw under the collar Homer's tummy.\\n10. Draw the 2 sleeves from his shirt.\\n11. Draw under his sleeve his arm with the hand.\\n12. Draw the start of his pants and legs.\\n13. Draw his leg and shoe under his visible arm.\\n14. Draw his other leg and shoe next to the other one.\\n\"}]"
      ]
     },
     "execution_count": 11,
     "metadata": {},
     "output_type": "execute_result"
    }
   ],
   "execution_count": 11
  }
 ],
 "metadata": {
  "kernelspec": {
   "display_name": "Python 3",
   "language": "python",
   "name": "python3"
  },
  "language_info": {
   "codemirror_mode": {
    "name": "ipython",
    "version": 2
   },
   "file_extension": ".py",
   "mimetype": "text/x-python",
   "name": "python",
   "nbconvert_exporter": "python",
   "pygments_lexer": "ipython2",
   "version": "2.7.6"
  }
 },
 "nbformat": 4,
 "nbformat_minor": 5
}
