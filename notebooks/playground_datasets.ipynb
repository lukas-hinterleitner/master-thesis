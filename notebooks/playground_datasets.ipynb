{
 "cells": [
  {
   "metadata": {
    "collapsed": true,
    "ExecuteTime": {
     "end_time": "2025-08-15T07:55:25.007391Z",
     "start_time": "2025-08-15T07:55:21.395420Z"
    }
   },
   "cell_type": "code",
   "source": [
    "import torch\n",
    "import numpy as np\n",
    "import random\n",
    "import gc\n",
    "\n",
    "from src.model import get_tokenizer\n",
    "from src.dataset import get_paraphrased_dataset, get_model_generated_dataset, get_original_dataset\n",
    "from src.utility import pprint_messages"
   ],
   "id": "initial_id",
   "outputs": [
    {
     "name": "stderr",
     "output_type": "stream",
     "text": [
      "/home/lukashinterleitner/Documents/Master_Data_Science/Master_Thesis/.venv/lib/python3.12/site-packages/tqdm/auto.py:21: TqdmWarning: IProgress not found. Please update jupyter and ipywidgets. See https://ipywidgets.readthedocs.io/en/stable/user_install.html\n",
      "  from .autonotebook import tqdm as notebook_tqdm\n"
     ]
    }
   ],
   "execution_count": 1
  },
  {
   "metadata": {
    "ExecuteTime": {
     "end_time": "2025-08-15T07:55:25.052751Z",
     "start_time": "2025-08-15T07:55:25.011663Z"
    }
   },
   "cell_type": "code",
   "source": [
    "# Set seeds for reproducibility\n",
    "torch.manual_seed(42)\n",
    "np.random.seed(42)\n",
    "random.seed(42)\n",
    "torch.backends.cudnn.deterministic = True\n",
    "torch.backends.cudnn.benchmark = False"
   ],
   "id": "90b75d9602a71805",
   "outputs": [],
   "execution_count": 2
  },
  {
   "metadata": {
    "ExecuteTime": {
     "end_time": "2025-08-15T07:55:25.207030Z",
     "start_time": "2025-08-15T07:55:25.060726Z"
    }
   },
   "cell_type": "code",
   "source": [
    "torch.cuda.empty_cache()\n",
    "gc.collect()"
   ],
   "id": "aef837f88c2ee075",
   "outputs": [
    {
     "data": {
      "text/plain": [
       "49"
      ]
     },
     "execution_count": 3,
     "metadata": {},
     "output_type": "execute_result"
    }
   ],
   "execution_count": 3
  },
  {
   "metadata": {
    "ExecuteTime": {
     "end_time": "2025-08-15T07:55:25.256086Z",
     "start_time": "2025-08-15T07:55:25.254238Z"
    }
   },
   "cell_type": "code",
   "source": "model_name = \"amd/AMD-OLMo-1B-SFT\"",
   "id": "5d798d2ceba40a00",
   "outputs": [],
   "execution_count": 4
  },
  {
   "metadata": {
    "ExecuteTime": {
     "end_time": "2025-08-15T07:55:25.978851Z",
     "start_time": "2025-08-15T07:55:25.302043Z"
    }
   },
   "cell_type": "code",
   "source": "tokenizer = get_tokenizer(model_name)",
   "id": "76dff320a11487b1",
   "outputs": [],
   "execution_count": 5
  },
  {
   "metadata": {
    "ExecuteTime": {
     "end_time": "2025-08-15T07:55:30.060963Z",
     "start_time": "2025-08-15T07:55:25.984778Z"
    }
   },
   "cell_type": "code",
   "source": [
    "original_dataset = get_original_dataset()\n",
    "pprint_messages(original_dataset[0][\"messages\"])"
   ],
   "id": "155300f20973fdc5",
   "outputs": [
    {
     "name": "stdout",
     "output_type": "stream",
     "text": [
      "==== User Message ====\n",
      "Can brain cells move? By movement I mean long distance migration (preferably within the brain only).\n",
      "\n",
      "==== Assistant Message ====\n",
      "The question is relatively broad and one should take into account that the brain not only consists of neurons, but also glial cells (supportive cells) and pre-mitotic neuronal stem cells. Furthermore, as critical fellow-scientists have indicated, developmental stage is very important, as the developing embryonic brain is very different from the adult brain.\n",
      "However, after sifting through various publications, the answer to the question is actually remarkably simple: Yes, brain cells migrate.\n",
      "In  the adult brain glial cells migrate in the brain (Klämbt, 2009). Glial cells are involved in a myriad of functions, but a notable example of migrating glial cells are the oligodendrocytes that migrate relative long distances to find their target axons onto which they wrap themselves to form the insulating myelin sheath (Tsai and Miller, 2002).\n",
      "Neuronal stem cells migrate over long distances in response to injury (Imitola et al., 2004) and they migrate from specific stem-cell locations (e.g., hippocampus and subventricular zone) to other regions (Clarke, 2003).\n",
      "Post-mitotic, but non-differentiated neurons have been shown to migrate in the adult brain in fish (Scott et al., 2012), and in mammals and non-human primates as well (Sawada et al., 2011).\n",
      "Not surprisingly, glial cells, stem cells and neurons also migrate during embryonic development. Most notably, post-mitotic neurons destined to fulfill peripheral functions have to migrate over relatively long distances from the neural crest to their target locations (Neuroscience, 2nd ed, Neuronal Migration).\n",
      "\n"
     ]
    }
   ],
   "execution_count": 6
  },
  {
   "metadata": {
    "ExecuteTime": {
     "end_time": "2025-08-15T07:55:32.500122Z",
     "start_time": "2025-08-15T07:55:30.127433Z"
    }
   },
   "cell_type": "code",
   "source": [
    "paraphrased_dataset = get_paraphrased_dataset(sample_size=None)\n",
    "pprint_messages(paraphrased_dataset[0][\"paraphrased_messages\"])"
   ],
   "id": "3d5dafdb9155c221",
   "outputs": [
    {
     "name": "stdout",
     "output_type": "stream",
     "text": [
      "==== User Message ====\n",
      "Are brain cells capable of moving? Specifically, I'm referring to long-distance migration, ideally occurring within the brain.\n",
      "\n",
      "==== Assistant Message ====\n",
      "The inquiry is quite extensive, and it’s important to recognize that the brain is made up not only of neurons but also of glial cells (supporting cells) and pre-mitotic neuronal stem cells. Additionally, as critical colleagues in research have pointed out, the developmental stage is crucial, since the developing embryonic brain is significantly different from the fully developed adult brain. Nonetheless, after reviewing various studies, the answer to the question turns out to be surprisingly straightforward: Yes, brain cells do migrate. In the adult brain, glial cells are known to migrate (Klämbt, 2009). These glial cells perform numerous functions, with a prominent example being oligodendrocytes, which migrate over considerable distances to locate their target axons and encase them to create the insulating myelin sheath (Tsai and Miller, 2002). Neuronal stem cells also migrate long distances in response to injury (Imitola et al., 2004), moving from specific stem-cell areas (such as the hippocampus and subventricular zone) to other parts of the brain (Clarke, 2003). It has been demonstrated that post-mitotic but non-differentiated neurons can migrate within the adult brain in fish (Scott et al., 2012) and also in mammals and non-human primates (Sawada et al., 2011). Unsurprisingly, glial cells, stem cells, and neurons also undergo migration during embryonic development. Most notably, post-mitotic neurons that are intended for peripheral roles must migrate over relatively long distances from the neural crest to their designated target areas (Neuroscience, 2nd ed, Neuronal Migration).\n",
      "\n"
     ]
    }
   ],
   "execution_count": 7
  },
  {
   "metadata": {
    "ExecuteTime": {
     "end_time": "2025-08-15T07:55:34.866508Z",
     "start_time": "2025-08-15T07:55:32.555545Z"
    }
   },
   "cell_type": "code",
   "source": [
    "model_generated_dataset = get_model_generated_dataset(model_name=model_name, sample_size=None)\n",
    "pprint_messages(model_generated_dataset[\"model_generated_messages\"][0])"
   ],
   "id": "742c275910007e14",
   "outputs": [
    {
     "name": "stdout",
     "output_type": "stream",
     "text": [
      "==== User Message ====\n",
      "Are brain cells capable of moving? Specifically, I'm referring to long-distance migration, ideally occurring within the brain.\n",
      "\n",
      "==== Assistant Message ====\n",
      "Brain cells, such as neurons, are indeed capable of moving. This movement is crucial for various functions, including communication between neurons and the formation of neural networks. However, the extent of brain cell movement is limited by the physical constraints of the brain's structure.\n",
      "\n",
      "Neurons are highly organized and interconnected, forming complex networks that enable the brain to process and interpret information. The movement of neurons within these networks is facilitated by the cytoskeleton, which provides structural support and allows for the movement of the cell body.\n",
      "\n",
      "While brain cells can move within the brain, the movement is typically limited to short distances and is not as extensive as the movement of neurons in other parts of the body. The brain's structure and the limitations of its physical constraints prevent the movement of brain cells over long distances.\n",
      "####\n",
      "Yes, brain cells can move, but it is limited to short distances within the brain.\n",
      "\n"
     ]
    }
   ],
   "execution_count": 8
  },
  {
   "metadata": {
    "ExecuteTime": {
     "end_time": "2025-08-15T07:55:34.946483Z",
     "start_time": "2025-08-15T07:55:34.927475Z"
    }
   },
   "cell_type": "code",
   "source": "model_generated_dataset[\"model_generated_messages\"][0][0]",
   "id": "9a10472f7ed3e67c",
   "outputs": [
    {
     "data": {
      "text/plain": [
       "{'content': \"Are brain cells capable of moving? Specifically, I'm referring to long-distance migration, ideally occurring within the brain.\",\n",
       " 'role': 'user'}"
      ]
     },
     "execution_count": 9,
     "metadata": {},
     "output_type": "execute_result"
    }
   ],
   "execution_count": 9
  },
  {
   "metadata": {
    "ExecuteTime": {
     "end_time": "2025-08-15T07:55:35.020421Z",
     "start_time": "2025-08-15T07:55:34.993079Z"
    }
   },
   "cell_type": "code",
   "source": "print(tokenizer.apply_chat_template([model_generated_dataset[\"model_generated_messages\"][0][0]], add_generation_prompt=True, return_tensors=\"pt\"))",
   "id": "960591604fd604d1",
   "outputs": [
    {
     "name": "stdout",
     "output_type": "stream",
     "text": [
      "tensor([[   29,    93,  4537, 49651,   187,  6723,  3998,  1341,  7032,   273,\n",
      "          4886,    32, 13658,    13,   309,  1353, 14339,   281,  1048,    14,\n",
      "         19893, 10346,    13, 34243, 12952,  1561,   253,  3998,    15,   187,\n",
      "            29,    93,   515,  5567, 49651,   187]])\n"
     ]
    }
   ],
   "execution_count": 10
  }
 ],
 "metadata": {
  "kernelspec": {
   "display_name": "Python 3",
   "language": "python",
   "name": "python3"
  },
  "language_info": {
   "codemirror_mode": {
    "name": "ipython",
    "version": 2
   },
   "file_extension": ".py",
   "mimetype": "text/x-python",
   "name": "python",
   "nbconvert_exporter": "python",
   "pygments_lexer": "ipython2",
   "version": "2.7.6"
  }
 },
 "nbformat": 4,
 "nbformat_minor": 5
}
