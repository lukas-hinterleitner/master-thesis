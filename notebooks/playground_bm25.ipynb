{
 "cells": [
  {
   "cell_type": "code",
   "id": "8c4196bad1772f53",
   "metadata": {
    "ExecuteTime": {
     "end_time": "2024-12-11T13:47:36.097671Z",
     "start_time": "2024-12-11T13:47:26.556485Z"
    }
   },
   "source": [
    "from rank_bm25 import BM25Okapi\n",
    "\n",
    "from transformers import AutoTokenizer\n",
    "import numpy as np"
   ],
   "outputs": [],
   "execution_count": 1
  },
  {
   "metadata": {
    "ExecuteTime": {
     "end_time": "2024-12-11T13:47:36.113939Z",
     "start_time": "2024-12-11T13:47:36.107612Z"
    }
   },
   "cell_type": "code",
   "source": [
    "def simple_tokenize(doc: str):\n",
    "    return doc.split(\" \")"
   ],
   "id": "7619c66c15ec6f95",
   "outputs": [],
   "execution_count": 2
  },
  {
   "metadata": {
    "ExecuteTime": {
     "end_time": "2024-12-11T13:47:36.287735Z",
     "start_time": "2024-12-11T13:47:36.281584Z"
    }
   },
   "cell_type": "code",
   "source": [
    "corpus = [\n",
    "    \"hello there good man!\",\n",
    "    \"it is quite windy in london\",\n",
    "    \"how is the weather today?\"\n",
    "]\n",
    "\n",
    "query = \"windy london\""
   ],
   "id": "fa91d66025eede37",
   "outputs": [],
   "execution_count": 3
  },
  {
   "metadata": {
    "ExecuteTime": {
     "end_time": "2024-12-11T13:47:36.346916Z",
     "start_time": "2024-12-11T13:47:36.339463Z"
    }
   },
   "cell_type": "code",
   "source": "bm25 = BM25Okapi([simple_tokenize(doc) for doc in corpus])",
   "id": "91211920f775eb15",
   "outputs": [],
   "execution_count": 4
  },
  {
   "metadata": {
    "ExecuteTime": {
     "end_time": "2024-12-11T13:52:43.309239Z",
     "start_time": "2024-12-11T13:52:43.298859Z"
    }
   },
   "cell_type": "code",
   "source": [
    "scores = bm25.get_scores(simple_tokenize(query))\n",
    "scores"
   ],
   "id": "41a1b9c3d0db868",
   "outputs": [
    {
     "data": {
      "text/plain": [
       "array([0.        , 0.93729472, 0.        ])"
      ]
     },
     "execution_count": 13,
     "metadata": {},
     "output_type": "execute_result"
    }
   ],
   "execution_count": 13
  },
  {
   "metadata": {
    "ExecuteTime": {
     "end_time": "2024-12-11T13:52:47.438793Z",
     "start_time": "2024-12-11T13:52:47.425830Z"
    }
   },
   "cell_type": "code",
   "source": "np.argmax(scores)",
   "id": "ed380838ad17eb36",
   "outputs": [
    {
     "data": {
      "text/plain": [
       "np.int64(1)"
      ]
     },
     "execution_count": 14,
     "metadata": {},
     "output_type": "execute_result"
    }
   ],
   "execution_count": 14
  },
  {
   "metadata": {
    "ExecuteTime": {
     "end_time": "2024-12-11T13:53:24.266542Z",
     "start_time": "2024-12-11T13:53:24.251814Z"
    }
   },
   "cell_type": "code",
   "source": "np.argpartition(scores, 0)",
   "id": "d99dfbe884f0c160",
   "outputs": [
    {
     "data": {
      "text/plain": [
       "array([0, 2, 1])"
      ]
     },
     "execution_count": 17,
     "metadata": {},
     "output_type": "execute_result"
    }
   ],
   "execution_count": 17
  },
  {
   "metadata": {},
   "cell_type": "code",
   "outputs": [],
   "execution_count": null,
   "source": "model_id = \"amd/AMD-OLMo-1B-SFT\"",
   "id": "a243ca2e19af9929"
  },
  {
   "metadata": {
    "ExecuteTime": {
     "end_time": "2024-12-11T13:47:37.033013Z",
     "start_time": "2024-12-11T13:47:36.538759Z"
    }
   },
   "cell_type": "code",
   "source": "tokenizer = AutoTokenizer.from_pretrained(model_id, return_tensors=\"pt\")",
   "id": "28ae27adbca14f85",
   "outputs": [],
   "execution_count": 6
  },
  {
   "metadata": {
    "ExecuteTime": {
     "end_time": "2024-12-11T13:47:37.077432Z",
     "start_time": "2024-12-11T13:47:37.068480Z"
    }
   },
   "cell_type": "code",
   "source": "model_tokenized_corpus = [tokenizer.encode(doc) for doc in corpus]",
   "id": "e5cede6f6d1f9d48",
   "outputs": [],
   "execution_count": 7
  },
  {
   "metadata": {
    "ExecuteTime": {
     "end_time": "2024-12-11T13:47:37.126728Z",
     "start_time": "2024-12-11T13:47:37.119820Z"
    }
   },
   "cell_type": "code",
   "source": "model_tokenized_bm25 = BM25Okapi(model_tokenized_corpus)",
   "id": "5b4df9b625e9c411",
   "outputs": [],
   "execution_count": 8
  },
  {
   "metadata": {
    "ExecuteTime": {
     "end_time": "2024-12-11T13:54:16.432752Z",
     "start_time": "2024-12-11T13:54:16.420574Z"
    }
   },
   "cell_type": "code",
   "source": [
    "model_tokenized_scores = model_tokenized_bm25.get_scores(tokenizer.encode(query))\n",
    "model_tokenized_scores"
   ],
   "id": "ee7643864cd6d682",
   "outputs": [
    {
     "data": {
      "text/plain": [
       "array([0.        , 1.37021461, 0.        ])"
      ]
     },
     "execution_count": 19,
     "metadata": {},
     "output_type": "execute_result"
    }
   ],
   "execution_count": 19
  },
  {
   "metadata": {
    "ExecuteTime": {
     "end_time": "2024-12-11T13:54:22.323576Z",
     "start_time": "2024-12-11T13:54:22.312585Z"
    }
   },
   "cell_type": "code",
   "source": "np.argmax(model_tokenized_scores)",
   "id": "bfcf6105bf4a870",
   "outputs": [
    {
     "data": {
      "text/plain": [
       "np.int64(1)"
      ]
     },
     "execution_count": 20,
     "metadata": {},
     "output_type": "execute_result"
    }
   ],
   "execution_count": 20
  },
  {
   "metadata": {
    "ExecuteTime": {
     "end_time": "2024-12-11T13:54:31.942779Z",
     "start_time": "2024-12-11T13:54:31.932156Z"
    }
   },
   "cell_type": "code",
   "source": "np.argpartition(model_tokenized_scores, 0)",
   "id": "f6e5fdcc4c31fddc",
   "outputs": [
    {
     "data": {
      "text/plain": [
       "array([0, 2, 1])"
      ]
     },
     "execution_count": 21,
     "metadata": {},
     "output_type": "execute_result"
    }
   ],
   "execution_count": 21
  }
 ],
 "metadata": {
  "kernelspec": {
   "display_name": "Python 3",
   "language": "python",
   "name": "python3"
  },
  "language_info": {
   "codemirror_mode": {
    "name": "ipython",
    "version": 2
   },
   "file_extension": ".py",
   "mimetype": "text/x-python",
   "name": "python",
   "nbconvert_exporter": "python",
   "pygments_lexer": "ipython2",
   "version": "2.7.6"
  }
 },
 "nbformat": 4,
 "nbformat_minor": 5
}
