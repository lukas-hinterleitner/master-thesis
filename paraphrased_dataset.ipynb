{
 "cells": [
  {
   "metadata": {
    "ExecuteTime": {
     "end_time": "2024-09-18T21:59:42.120315Z",
     "start_time": "2024-09-18T21:59:42.117553Z"
    }
   },
   "cell_type": "code",
   "source": [
    "from datasets import load_dataset\n",
    "from application.paraphrasing import paraphrase_input\n",
    "from application.config import lima_paraphrased_dataset_path\n",
    "\n",
    "from tqdm import tqdm"
   ],
   "id": "initial_id",
   "outputs": [],
   "execution_count": 9
  },
  {
   "metadata": {
    "ExecuteTime": {
     "end_time": "2024-09-18T21:59:43.712674Z",
     "start_time": "2024-09-18T21:59:43.709728Z"
    }
   },
   "cell_type": "code",
   "source": [
    "def map_to_message_format(role: str, content: str) -> dict[str, str]:\n",
    "    return {\"role\": role, \"content\": content}"
   ],
   "id": "99564712ff421ab7",
   "outputs": [],
   "execution_count": 10
  },
  {
   "metadata": {
    "ExecuteTime": {
     "end_time": "2024-09-18T21:59:47.439043Z",
     "start_time": "2024-09-18T21:59:44.718760Z"
    }
   },
   "cell_type": "code",
   "source": "data = load_dataset(\"allenai/tulu-v2-sft-mixture\", split=\"train\")",
   "id": "8699159261203cdf",
   "outputs": [],
   "execution_count": 11
  },
  {
   "metadata": {
    "ExecuteTime": {
     "end_time": "2024-09-06T13:21:59.212768Z",
     "start_time": "2024-09-06T13:21:59.208262Z"
    }
   },
   "cell_type": "code",
   "source": [
    "# select only data where dataset is \"lima\"\n",
    "lima_data = data.filter(lambda x: x[\"dataset\"] == \"lima\")"
   ],
   "id": "8da34de505209132",
   "outputs": [],
   "execution_count": 10
  },
  {
   "metadata": {
    "ExecuteTime": {
     "end_time": "2024-09-06T13:22:06.278138Z",
     "start_time": "2024-09-06T13:22:06.271822Z"
    }
   },
   "cell_type": "code",
   "source": [
    "single_question_answers = lima_data.filter(lambda x: len(x[\"messages\"]) == 2)\n",
    "single_question_answers"
   ],
   "id": "5adf92c41e5c5fb4",
   "outputs": [
    {
     "data": {
      "text/plain": [
       "Dataset({\n",
       "    features: ['dataset', 'id', 'messages'],\n",
       "    num_rows: 988\n",
       "})"
      ]
     },
     "execution_count": 11,
     "metadata": {},
     "output_type": "execute_result"
    }
   ],
   "execution_count": 11
  },
  {
   "metadata": {
    "ExecuteTime": {
     "end_time": "2024-09-06T15:08:24.528962Z",
     "start_time": "2024-09-06T13:23:18.181955Z"
    }
   },
   "cell_type": "code",
   "source": [
    "paraphrased = []\n",
    "\n",
    "for row in tqdm(single_question_answers):\n",
    "    paraphrased.append(\n",
    "        (\n",
    "            row[\"id\"], \n",
    "            [\n",
    "                map_to_message_format(\"user\", paraphrase_input(row[\"messages\"][0][\"content\"])),\n",
    "                map_to_message_format(\"assistant\", paraphrase_input(row[\"messages\"][1][\"content\"]))\n",
    "            ]\n",
    "        )\n",
    "    )"
   ],
   "id": "7180d472284b1546",
   "outputs": [
    {
     "name": "stderr",
     "output_type": "stream",
     "text": [
      "100%|██████████| 988/988 [1:45:06<00:00,  6.38s/it]  \n"
     ]
    }
   ],
   "execution_count": 15
  },
  {
   "metadata": {
    "ExecuteTime": {
     "end_time": "2024-09-06T15:09:11.069473Z",
     "start_time": "2024-09-06T15:09:11.067110Z"
    }
   },
   "cell_type": "code",
   "source": "print(paraphrased[0][1][0])",
   "id": "6c03e516c5b31cdb",
   "outputs": [
    {
     "name": "stdout",
     "output_type": "stream",
     "text": [
      "{'role': 'user', 'content': \"Are brain cells capable of moving? Specifically, I'm referring to long-distance migration, ideally occurring within the brain.\"}\n"
     ]
    }
   ],
   "execution_count": 16
  },
  {
   "metadata": {
    "ExecuteTime": {
     "end_time": "2024-09-06T15:09:13.848722Z",
     "start_time": "2024-09-06T15:09:13.798660Z"
    }
   },
   "cell_type": "code",
   "source": [
    "lima_data_paraphrased = single_question_answers.add_column(\"paraphrased_id\", [p[0] for p in paraphrased])\n",
    "lima_data_paraphrased = lima_data_paraphrased.add_column(\"paraphrased_messages\", [p[1] for p in paraphrased])"
   ],
   "id": "45125078433aa87e",
   "outputs": [],
   "execution_count": 17
  },
  {
   "metadata": {
    "ExecuteTime": {
     "end_time": "2024-09-06T15:09:16.377023Z",
     "start_time": "2024-09-06T15:09:16.373931Z"
    }
   },
   "cell_type": "code",
   "source": "lima_data_paraphrased",
   "id": "75ee815f8dfe10d9",
   "outputs": [
    {
     "data": {
      "text/plain": [
       "Dataset({\n",
       "    features: ['dataset', 'id', 'messages', 'paraphrased_id', 'paraphrased_messages'],\n",
       "    num_rows: 988\n",
       "})"
      ]
     },
     "execution_count": 18,
     "metadata": {},
     "output_type": "execute_result"
    }
   ],
   "execution_count": 18
  },
  {
   "metadata": {
    "ExecuteTime": {
     "end_time": "2024-09-06T15:25:41.796603Z",
     "start_time": "2024-09-06T15:25:41.780016Z"
    }
   },
   "cell_type": "code",
   "source": "lima_data_paraphrased[\"paraphrased_messages\"][0]",
   "id": "2f306e76ba3cb25d",
   "outputs": [
    {
     "data": {
      "text/plain": [
       "[{'content': \"Are brain cells capable of moving? Specifically, I'm referring to long-distance migration, ideally occurring within the brain.\",\n",
       "  'role': 'user'},\n",
       " {'content': 'The inquiry is quite extensive, and it’s important to recognize that the brain is made up not only of neurons but also of glial cells (supporting cells) and pre-mitotic neuronal stem cells. Additionally, as critical colleagues in research have pointed out, the developmental stage is crucial, since the developing embryonic brain is significantly different from the fully developed adult brain. Nonetheless, after reviewing various studies, the answer to the question turns out to be surprisingly straightforward: Yes, brain cells do migrate. In the adult brain, glial cells are known to migrate (Klämbt, 2009). These glial cells perform numerous functions, with a prominent example being oligodendrocytes, which migrate over considerable distances to locate their target axons and encase them to create the insulating myelin sheath (Tsai and Miller, 2002). Neuronal stem cells also migrate long distances in response to injury (Imitola et al., 2004), moving from specific stem-cell areas (such as the hippocampus and subventricular zone) to other parts of the brain (Clarke, 2003). It has been demonstrated that post-mitotic but non-differentiated neurons can migrate within the adult brain in fish (Scott et al., 2012) and also in mammals and non-human primates (Sawada et al., 2011). Unsurprisingly, glial cells, stem cells, and neurons also undergo migration during embryonic development. Most notably, post-mitotic neurons that are intended for peripheral roles must migrate over relatively long distances from the neural crest to their designated target areas (Neuroscience, 2nd ed, Neuronal Migration).',\n",
       "  'role': 'assistant'}]"
      ]
     },
     "execution_count": 45,
     "metadata": {},
     "output_type": "execute_result"
    }
   ],
   "execution_count": 45
  },
  {
   "metadata": {
    "ExecuteTime": {
     "end_time": "2024-09-06T15:23:28.381665Z",
     "start_time": "2024-09-06T15:23:28.315351Z"
    }
   },
   "cell_type": "code",
   "source": [
    "test = True\n",
    "for row in lima_data_paraphrased:\n",
    "    test = test and (row[\"id\"] == row[\"paraphrased_id\"])\n",
    "    \n",
    "test"
   ],
   "id": "40a488aa5a16ab4e",
   "outputs": [
    {
     "data": {
      "text/plain": [
       "True"
      ]
     },
     "execution_count": 38,
     "metadata": {},
     "output_type": "execute_result"
    }
   ],
   "execution_count": 38
  },
  {
   "metadata": {
    "ExecuteTime": {
     "end_time": "2024-09-06T15:24:22.102507Z",
     "start_time": "2024-09-06T15:24:22.058425Z"
    }
   },
   "cell_type": "code",
   "source": [
    "lima_data_paraphrased = lima_data_paraphrased.remove_columns(\"dataset\")\n",
    "lima_data_paraphrased = lima_data_paraphrased.remove_columns(\"paraphrased_id\")"
   ],
   "id": "93af8b682db5a5f8",
   "outputs": [
    {
     "ename": "ValueError",
     "evalue": "Column name ['paraphrased_id'] not in the dataset. Current columns in the dataset: ['id', 'messages', 'paraphrased_messages']",
     "output_type": "error",
     "traceback": [
      "\u001B[0;31m---------------------------------------------------------------------------\u001B[0m",
      "\u001B[0;31mValueError\u001B[0m                                Traceback (most recent call last)",
      "Cell \u001B[0;32mIn[41], line 2\u001B[0m\n\u001B[1;32m      1\u001B[0m lima_data_paraphrased \u001B[38;5;241m=\u001B[39m lima_data_paraphrased\u001B[38;5;241m.\u001B[39mremove_columns(\u001B[38;5;124m\"\u001B[39m\u001B[38;5;124mdataset\u001B[39m\u001B[38;5;124m\"\u001B[39m)\n\u001B[0;32m----> 2\u001B[0m lima_data_paraphrased \u001B[38;5;241m=\u001B[39m lima_data_paraphrased\u001B[38;5;241m.\u001B[39mremove_columns(\u001B[38;5;124m\"\u001B[39m\u001B[38;5;124mparaphrased_id\u001B[39m\u001B[38;5;124m\"\u001B[39m)\n\u001B[1;32m      3\u001B[0m lima_data_paraphrased\n",
      "File \u001B[0;32m~/anaconda3/envs/master-thesis/lib/python3.11/site-packages/datasets/arrow_dataset.py:602\u001B[0m, in \u001B[0;36mtransmit_tasks.<locals>.wrapper\u001B[0;34m(*args, **kwargs)\u001B[0m\n\u001B[1;32m    600\u001B[0m     \u001B[38;5;28mself\u001B[39m: \u001B[38;5;124m\"\u001B[39m\u001B[38;5;124mDataset\u001B[39m\u001B[38;5;124m\"\u001B[39m \u001B[38;5;241m=\u001B[39m kwargs\u001B[38;5;241m.\u001B[39mpop(\u001B[38;5;124m\"\u001B[39m\u001B[38;5;124mself\u001B[39m\u001B[38;5;124m\"\u001B[39m)\n\u001B[1;32m    601\u001B[0m \u001B[38;5;66;03m# apply actual function\u001B[39;00m\n\u001B[0;32m--> 602\u001B[0m out: Union[\u001B[38;5;124m\"\u001B[39m\u001B[38;5;124mDataset\u001B[39m\u001B[38;5;124m\"\u001B[39m, \u001B[38;5;124m\"\u001B[39m\u001B[38;5;124mDatasetDict\u001B[39m\u001B[38;5;124m\"\u001B[39m] \u001B[38;5;241m=\u001B[39m func(\u001B[38;5;28mself\u001B[39m, \u001B[38;5;241m*\u001B[39margs, \u001B[38;5;241m*\u001B[39m\u001B[38;5;241m*\u001B[39mkwargs)\n\u001B[1;32m    603\u001B[0m datasets: List[\u001B[38;5;124m\"\u001B[39m\u001B[38;5;124mDataset\u001B[39m\u001B[38;5;124m\"\u001B[39m] \u001B[38;5;241m=\u001B[39m \u001B[38;5;28mlist\u001B[39m(out\u001B[38;5;241m.\u001B[39mvalues()) \u001B[38;5;28;01mif\u001B[39;00m \u001B[38;5;28misinstance\u001B[39m(out, \u001B[38;5;28mdict\u001B[39m) \u001B[38;5;28;01melse\u001B[39;00m [out]\n\u001B[1;32m    604\u001B[0m \u001B[38;5;28;01mfor\u001B[39;00m dataset \u001B[38;5;129;01min\u001B[39;00m datasets:\n\u001B[1;32m    605\u001B[0m     \u001B[38;5;66;03m# Remove task templates if a column mapping of the template is no longer valid\u001B[39;00m\n",
      "File \u001B[0;32m~/anaconda3/envs/master-thesis/lib/python3.11/site-packages/datasets/arrow_dataset.py:567\u001B[0m, in \u001B[0;36mtransmit_format.<locals>.wrapper\u001B[0;34m(*args, **kwargs)\u001B[0m\n\u001B[1;32m    560\u001B[0m self_format \u001B[38;5;241m=\u001B[39m {\n\u001B[1;32m    561\u001B[0m     \u001B[38;5;124m\"\u001B[39m\u001B[38;5;124mtype\u001B[39m\u001B[38;5;124m\"\u001B[39m: \u001B[38;5;28mself\u001B[39m\u001B[38;5;241m.\u001B[39m_format_type,\n\u001B[1;32m    562\u001B[0m     \u001B[38;5;124m\"\u001B[39m\u001B[38;5;124mformat_kwargs\u001B[39m\u001B[38;5;124m\"\u001B[39m: \u001B[38;5;28mself\u001B[39m\u001B[38;5;241m.\u001B[39m_format_kwargs,\n\u001B[1;32m    563\u001B[0m     \u001B[38;5;124m\"\u001B[39m\u001B[38;5;124mcolumns\u001B[39m\u001B[38;5;124m\"\u001B[39m: \u001B[38;5;28mself\u001B[39m\u001B[38;5;241m.\u001B[39m_format_columns,\n\u001B[1;32m    564\u001B[0m     \u001B[38;5;124m\"\u001B[39m\u001B[38;5;124moutput_all_columns\u001B[39m\u001B[38;5;124m\"\u001B[39m: \u001B[38;5;28mself\u001B[39m\u001B[38;5;241m.\u001B[39m_output_all_columns,\n\u001B[1;32m    565\u001B[0m }\n\u001B[1;32m    566\u001B[0m \u001B[38;5;66;03m# apply actual function\u001B[39;00m\n\u001B[0;32m--> 567\u001B[0m out: Union[\u001B[38;5;124m\"\u001B[39m\u001B[38;5;124mDataset\u001B[39m\u001B[38;5;124m\"\u001B[39m, \u001B[38;5;124m\"\u001B[39m\u001B[38;5;124mDatasetDict\u001B[39m\u001B[38;5;124m\"\u001B[39m] \u001B[38;5;241m=\u001B[39m func(\u001B[38;5;28mself\u001B[39m, \u001B[38;5;241m*\u001B[39margs, \u001B[38;5;241m*\u001B[39m\u001B[38;5;241m*\u001B[39mkwargs)\n\u001B[1;32m    568\u001B[0m datasets: List[\u001B[38;5;124m\"\u001B[39m\u001B[38;5;124mDataset\u001B[39m\u001B[38;5;124m\"\u001B[39m] \u001B[38;5;241m=\u001B[39m \u001B[38;5;28mlist\u001B[39m(out\u001B[38;5;241m.\u001B[39mvalues()) \u001B[38;5;28;01mif\u001B[39;00m \u001B[38;5;28misinstance\u001B[39m(out, \u001B[38;5;28mdict\u001B[39m) \u001B[38;5;28;01melse\u001B[39;00m [out]\n\u001B[1;32m    569\u001B[0m \u001B[38;5;66;03m# re-apply format to the output\u001B[39;00m\n",
      "File \u001B[0;32m~/anaconda3/envs/master-thesis/lib/python3.11/site-packages/datasets/fingerprint.py:482\u001B[0m, in \u001B[0;36mfingerprint_transform.<locals>._fingerprint.<locals>.wrapper\u001B[0;34m(*args, **kwargs)\u001B[0m\n\u001B[1;32m    478\u001B[0m             validate_fingerprint(kwargs[fingerprint_name])\n\u001B[1;32m    480\u001B[0m \u001B[38;5;66;03m# Call actual function\u001B[39;00m\n\u001B[0;32m--> 482\u001B[0m out \u001B[38;5;241m=\u001B[39m func(dataset, \u001B[38;5;241m*\u001B[39margs, \u001B[38;5;241m*\u001B[39m\u001B[38;5;241m*\u001B[39mkwargs)\n\u001B[1;32m    484\u001B[0m \u001B[38;5;66;03m# Update fingerprint of in-place transforms + update in-place history of transforms\u001B[39;00m\n\u001B[1;32m    486\u001B[0m \u001B[38;5;28;01mif\u001B[39;00m inplace:  \u001B[38;5;66;03m# update after calling func so that the fingerprint doesn't change if the function fails\u001B[39;00m\n",
      "File \u001B[0;32m~/anaconda3/envs/master-thesis/lib/python3.11/site-packages/datasets/arrow_dataset.py:2211\u001B[0m, in \u001B[0;36mDataset.remove_columns\u001B[0;34m(self, column_names, new_fingerprint)\u001B[0m\n\u001B[1;32m   2209\u001B[0m missing_columns \u001B[38;5;241m=\u001B[39m \u001B[38;5;28mset\u001B[39m(column_names) \u001B[38;5;241m-\u001B[39m \u001B[38;5;28mset\u001B[39m(\u001B[38;5;28mself\u001B[39m\u001B[38;5;241m.\u001B[39m_data\u001B[38;5;241m.\u001B[39mcolumn_names)\n\u001B[1;32m   2210\u001B[0m \u001B[38;5;28;01mif\u001B[39;00m missing_columns:\n\u001B[0;32m-> 2211\u001B[0m     \u001B[38;5;28;01mraise\u001B[39;00m \u001B[38;5;167;01mValueError\u001B[39;00m(\n\u001B[1;32m   2212\u001B[0m         \u001B[38;5;124mf\u001B[39m\u001B[38;5;124m\"\u001B[39m\u001B[38;5;124mColumn name \u001B[39m\u001B[38;5;132;01m{\u001B[39;00m\u001B[38;5;28mlist\u001B[39m(missing_columns)\u001B[38;5;132;01m}\u001B[39;00m\u001B[38;5;124m not in the dataset. \u001B[39m\u001B[38;5;124m\"\u001B[39m\n\u001B[1;32m   2213\u001B[0m         \u001B[38;5;124mf\u001B[39m\u001B[38;5;124m\"\u001B[39m\u001B[38;5;124mCurrent columns in the dataset: \u001B[39m\u001B[38;5;132;01m{\u001B[39;00mdataset\u001B[38;5;241m.\u001B[39m_data\u001B[38;5;241m.\u001B[39mcolumn_names\u001B[38;5;132;01m}\u001B[39;00m\u001B[38;5;124m\"\u001B[39m\n\u001B[1;32m   2214\u001B[0m     )\n\u001B[1;32m   2216\u001B[0m \u001B[38;5;28;01mfor\u001B[39;00m column_name \u001B[38;5;129;01min\u001B[39;00m column_names:\n\u001B[1;32m   2217\u001B[0m     \u001B[38;5;28;01mdel\u001B[39;00m dataset\u001B[38;5;241m.\u001B[39m_info\u001B[38;5;241m.\u001B[39mfeatures[column_name]\n",
      "\u001B[0;31mValueError\u001B[0m: Column name ['paraphrased_id'] not in the dataset. Current columns in the dataset: ['id', 'messages', 'paraphrased_messages']"
     ]
    }
   ],
   "execution_count": 41
  },
  {
   "metadata": {
    "ExecuteTime": {
     "end_time": "2024-09-06T15:26:14.855053Z",
     "start_time": "2024-09-06T15:26:14.851908Z"
    }
   },
   "cell_type": "code",
   "source": "lima_data_paraphrased",
   "id": "7b05a1a329cef9c4",
   "outputs": [
    {
     "data": {
      "text/plain": [
       "Dataset({\n",
       "    features: ['id', 'messages', 'paraphrased_messages'],\n",
       "    num_rows: 988\n",
       "})"
      ]
     },
     "execution_count": 46,
     "metadata": {},
     "output_type": "execute_result"
    }
   ],
   "execution_count": 46
  },
  {
   "metadata": {
    "ExecuteTime": {
     "end_time": "2024-09-06T15:26:21.428693Z",
     "start_time": "2024-09-06T15:26:21.413838Z"
    }
   },
   "cell_type": "code",
   "source": "lima_data_paraphrased.save_to_disk(lima_paraphrased_dataset_path)",
   "id": "7688415605b86f65",
   "outputs": [
    {
     "data": {
      "text/plain": [
       "Saving the dataset (0/1 shards):   0%|          | 0/988 [00:00<?, ? examples/s]"
      ],
      "application/vnd.jupyter.widget-view+json": {
       "version_major": 2,
       "version_minor": 0,
       "model_id": "43d4807e064f4147a35da317fe5dcae1"
      }
     },
     "metadata": {},
     "output_type": "display_data"
    }
   ],
   "execution_count": 47
  },
  {
   "metadata": {
    "ExecuteTime": {
     "end_time": "2024-09-06T15:26:41.572202Z",
     "start_time": "2024-09-06T15:26:41.548490Z"
    }
   },
   "cell_type": "code",
   "source": "print(lima_data_paraphrased[\"messages\"][0][0][\"content\"])",
   "id": "be8043437f47a6ec",
   "outputs": [
    {
     "name": "stdout",
     "output_type": "stream",
     "text": [
      "Can brain cells move? By movement I mean long distance migration (preferably within the brain only).\n"
     ]
    }
   ],
   "execution_count": 48
  },
  {
   "metadata": {
    "ExecuteTime": {
     "end_time": "2024-09-06T15:26:42.384549Z",
     "start_time": "2024-09-06T15:26:42.368896Z"
    }
   },
   "cell_type": "code",
   "source": "print(lima_data_paraphrased[\"messages\"][0][1][\"content\"])",
   "id": "b4f8e914708c8a6b",
   "outputs": [
    {
     "name": "stdout",
     "output_type": "stream",
     "text": [
      "The question is relatively broad and one should take into account that the brain not only consists of neurons, but also glial cells (supportive cells) and pre-mitotic neuronal stem cells. Furthermore, as critical fellow-scientists have indicated, developmental stage is very important, as the developing embryonic brain is very different from the adult brain.\n",
      "However, after sifting through various publications, the answer to the question is actually remarkably simple: Yes, brain cells migrate.\n",
      "In  the adult brain glial cells migrate in the brain (Klämbt, 2009). Glial cells are involved in a myriad of functions, but a notable example of migrating glial cells are the oligodendrocytes that migrate relative long distances to find their target axons onto which they wrap themselves to form the insulating myelin sheath (Tsai and Miller, 2002).\n",
      "Neuronal stem cells migrate over long distances in response to injury (Imitola et al., 2004) and they migrate from specific stem-cell locations (e.g., hippocampus and subventricular zone) to other regions (Clarke, 2003).\n",
      "Post-mitotic, but non-differentiated neurons have been shown to migrate in the adult brain in fish (Scott et al., 2012), and in mammals and non-human primates as well (Sawada et al., 2011).\n",
      "Not surprisingly, glial cells, stem cells and neurons also migrate during embryonic development. Most notably, post-mitotic neurons destined to fulfill peripheral functions have to migrate over relatively long distances from the neural crest to their target locations (Neuroscience, 2nd ed, Neuronal Migration).\n"
     ]
    }
   ],
   "execution_count": 49
  },
  {
   "metadata": {},
   "cell_type": "code",
   "outputs": [],
   "execution_count": null,
   "source": "",
   "id": "73dd26160b98033d"
  }
 ],
 "metadata": {
  "kernelspec": {
   "display_name": "Python 3",
   "language": "python",
   "name": "python3"
  },
  "language_info": {
   "codemirror_mode": {
    "name": "ipython",
    "version": 2
   },
   "file_extension": ".py",
   "mimetype": "text/x-python",
   "name": "python",
   "nbconvert_exporter": "python",
   "pygments_lexer": "ipython2",
   "version": "2.7.6"
  }
 },
 "nbformat": 4,
 "nbformat_minor": 5
}
