{
 "cells": [
  {
   "cell_type": "code",
   "id": "initial_id",
   "metadata": {
    "collapsed": true,
    "ExecuteTime": {
     "end_time": "2024-12-12T21:16:57.950554Z",
     "start_time": "2024-12-12T21:16:57.947622Z"
    }
   },
   "source": [
    "import json\n",
    "import statistics\n",
    "\n",
    "import numpy as np\n",
    "\n",
    "from utilities.config.storage import (get_gradient_similarity_bm25_selected_file_path)"
   ],
   "outputs": [],
   "execution_count": 33
  },
  {
   "metadata": {
    "ExecuteTime": {
     "end_time": "2024-12-12T21:16:57.998656Z",
     "start_time": "2024-12-12T21:16:57.994680Z"
    }
   },
   "cell_type": "code",
   "source": [
    "def get_gradient_similarities_from_file(sample_size: int):\n",
    "    with open(get_gradient_similarity_bm25_selected_file_path(sample_size)) as f:\n",
    "        gradient_similarities = json.load(f)\n",
    "        f.close()\n",
    "        return gradient_similarities"
   ],
   "id": "2aa452c1d0d15031",
   "outputs": [],
   "execution_count": 34
  },
  {
   "metadata": {
    "ExecuteTime": {
     "end_time": "2024-12-12T21:16:58.058725Z",
     "start_time": "2024-12-12T21:16:58.048612Z"
    }
   },
   "cell_type": "code",
   "source": [
    "def calculate_score(gradient_similarities: dict):\n",
    "    correct_counter = 0\n",
    "    bm25_correct_counter = 0\n",
    "\n",
    "    size = len(gradient_similarities.keys())\n",
    "    \n",
    "    for original_id, similarities in gradient_similarities.items():\n",
    "        most_similar_paraphrased_id = max(similarities, key=similarities.get)\n",
    "        correct_counter += int(original_id == most_similar_paraphrased_id)\n",
    "\n",
    "        bm25_most_similar_paraphrased_id = list(similarities.keys())[0]\n",
    "        bm25_correct_counter += int(original_id == bm25_most_similar_paraphrased_id)\n",
    "        \n",
    "    return correct_counter / size, bm25_correct_counter / size"
   ],
   "id": "49b47e2dd0569f16",
   "outputs": [],
   "execution_count": 35
  },
  {
   "metadata": {
    "ExecuteTime": {
     "end_time": "2024-12-12T21:16:58.121357Z",
     "start_time": "2024-12-12T21:16:58.112355Z"
    }
   },
   "cell_type": "code",
   "source": [
    "def get_wrong_decisions(gradient_similarities: dict):\n",
    "    wrong_decisions = []\n",
    "    \n",
    "    for original_id, similarities in gradient_similarities.items():\n",
    "        most_similar_paraphrased_id = max(similarities, key=similarities.get)\n",
    "        if original_id != most_similar_paraphrased_id:\n",
    "            wrong_decisions.append(original_id)\n",
    "\n",
    "    return wrong_decisions"
   ],
   "id": "a46e746fbdf1acee",
   "outputs": [],
   "execution_count": 36
  },
  {
   "metadata": {
    "ExecuteTime": {
     "end_time": "2024-12-12T21:16:58.187144Z",
     "start_time": "2024-12-12T21:16:58.179133Z"
    }
   },
   "cell_type": "code",
   "source": [
    "def get_mean_similarity_score_of_most_similar_samples(gradient_similarities: dict, mean_function = np.mean):\n",
    "    highest_similarities = []\n",
    "    \n",
    "    for original_id, similarities in gradient_similarities.items():\n",
    "        highest_similarities.append(max(similarities.values()))\n",
    "        \n",
    "    return mean_function(highest_similarities)"
   ],
   "id": "82d3ea1e5734f9d2",
   "outputs": [],
   "execution_count": 37
  },
  {
   "metadata": {
    "ExecuteTime": {
     "end_time": "2024-12-12T21:16:58.240799Z",
     "start_time": "2024-12-12T21:16:58.237323Z"
    }
   },
   "cell_type": "code",
   "source": "gradient_similarities_subset_5 = get_gradient_similarities_from_file(5)",
   "id": "a886876b6edc7233",
   "outputs": [],
   "execution_count": 38
  },
  {
   "metadata": {
    "ExecuteTime": {
     "end_time": "2024-12-12T21:16:58.290699Z",
     "start_time": "2024-12-12T21:16:58.286282Z"
    }
   },
   "cell_type": "code",
   "source": "calculate_score(gradient_similarities_subset_5)",
   "id": "b59e586334b80109",
   "outputs": [
    {
     "data": {
      "text/plain": [
       "(1.0, 1.0)"
      ]
     },
     "execution_count": 39,
     "metadata": {},
     "output_type": "execute_result"
    }
   ],
   "execution_count": 39
  },
  {
   "metadata": {
    "ExecuteTime": {
     "end_time": "2024-12-12T21:16:58.338978Z",
     "start_time": "2024-12-12T21:16:58.335429Z"
    }
   },
   "cell_type": "code",
   "source": "gradient_similarities_subset_100 = get_gradient_similarities_from_file(100)",
   "id": "296eb6e0e1e7b5ea",
   "outputs": [],
   "execution_count": 40
  },
  {
   "metadata": {
    "ExecuteTime": {
     "end_time": "2024-12-12T21:16:58.389870Z",
     "start_time": "2024-12-12T21:16:58.385597Z"
    }
   },
   "cell_type": "code",
   "source": "calculate_score(gradient_similarities_subset_100)",
   "id": "94cda2adabde88c5",
   "outputs": [
    {
     "data": {
      "text/plain": [
       "(1.0, 0.99)"
      ]
     },
     "execution_count": 41,
     "metadata": {},
     "output_type": "execute_result"
    }
   ],
   "execution_count": 41
  },
  {
   "metadata": {
    "ExecuteTime": {
     "end_time": "2024-12-12T21:16:58.442969Z",
     "start_time": "2024-12-12T21:16:58.438675Z"
    }
   },
   "cell_type": "code",
   "source": "get_wrong_decisions(gradient_similarities_subset_100)",
   "id": "f3efc84a88774b72",
   "outputs": [
    {
     "data": {
      "text/plain": [
       "[]"
      ]
     },
     "execution_count": 42,
     "metadata": {},
     "output_type": "execute_result"
    }
   ],
   "execution_count": 42
  },
  {
   "metadata": {
    "ExecuteTime": {
     "end_time": "2024-12-12T21:16:58.491168Z",
     "start_time": "2024-12-12T21:16:58.488412Z"
    }
   },
   "cell_type": "code",
   "source": "# bm25 made a mistake at lime_70",
   "id": "19f22e0bdcae77af",
   "outputs": [],
   "execution_count": 43
  },
  {
   "metadata": {
    "ExecuteTime": {
     "end_time": "2024-12-12T21:16:58.545068Z",
     "start_time": "2024-12-12T21:16:58.540624Z"
    }
   },
   "cell_type": "code",
   "source": "get_mean_similarity_score_of_most_similar_samples(gradient_similarities_subset_100)",
   "id": "1eb8f510d6598061",
   "outputs": [
    {
     "data": {
      "text/plain": [
       "np.float64(0.7450920578837394)"
      ]
     },
     "execution_count": 44,
     "metadata": {},
     "output_type": "execute_result"
    }
   ],
   "execution_count": 44
  },
  {
   "metadata": {
    "ExecuteTime": {
     "end_time": "2024-12-12T21:16:58.608287Z",
     "start_time": "2024-12-12T21:16:58.603850Z"
    }
   },
   "cell_type": "code",
   "source": "get_mean_similarity_score_of_most_similar_samples(gradient_similarities_subset_100, statistics.median)",
   "id": "feb1af5cb866f56e",
   "outputs": [
    {
     "data": {
      "text/plain": [
       "0.735729843378067"
      ]
     },
     "execution_count": 45,
     "metadata": {},
     "output_type": "execute_result"
    }
   ],
   "execution_count": 45
  },
  {
   "metadata": {
    "ExecuteTime": {
     "end_time": "2024-12-12T21:16:58.655573Z",
     "start_time": "2024-12-12T21:16:58.653280Z"
    }
   },
   "cell_type": "code",
   "source": "",
   "id": "b8a32da55310e6d0",
   "outputs": [],
   "execution_count": null
  }
 ],
 "metadata": {
  "kernelspec": {
   "display_name": "Python 3",
   "language": "python",
   "name": "python3"
  },
  "language_info": {
   "codemirror_mode": {
    "name": "ipython",
    "version": 2
   },
   "file_extension": ".py",
   "mimetype": "text/x-python",
   "name": "python",
   "nbconvert_exporter": "python",
   "pygments_lexer": "ipython2",
   "version": "2.7.6"
  }
 },
 "nbformat": 4,
 "nbformat_minor": 5
}
