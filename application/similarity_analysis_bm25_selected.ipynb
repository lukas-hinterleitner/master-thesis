{
 "cells": [
  {
   "cell_type": "code",
   "id": "initial_id",
   "metadata": {
    "collapsed": true,
    "ExecuteTime": {
     "end_time": "2024-12-12T11:36:26.760337Z",
     "start_time": "2024-12-12T11:36:10.647932Z"
    }
   },
   "source": [
    "import json\n",
    "import statistics\n",
    "\n",
    "import numpy as np\n",
    "\n",
    "from config.storage import get_gradient_similarity_bm25_selected_file_path"
   ],
   "outputs": [],
   "execution_count": 1
  },
  {
   "metadata": {
    "ExecuteTime": {
     "end_time": "2024-12-11T22:41:44.843715Z",
     "start_time": "2024-12-11T22:41:44.835262Z"
    }
   },
   "cell_type": "code",
   "source": [
    "def get_gradient_similarities_from_file(sample_size: int):\n",
    "    with open(get_gradient_similarity_bm25_selected_file_path(sample_size)) as f:\n",
    "        gradient_similarities = json.load(f)\n",
    "        f.close()\n",
    "        return gradient_similarities"
   ],
   "id": "2aa452c1d0d15031",
   "outputs": [],
   "execution_count": 49
  },
  {
   "metadata": {
    "ExecuteTime": {
     "end_time": "2024-12-11T22:41:44.900751Z",
     "start_time": "2024-12-11T22:41:44.890930Z"
    }
   },
   "cell_type": "code",
   "source": [
    "def calculate_score(gradient_similarities: dict):\n",
    "    correct_counter = 0\n",
    "    \n",
    "    for original_id, similarities in gradient_similarities.items():\n",
    "        most_similar_paraphrased_id = max(similarities, key=similarities.get)\n",
    "        correct_counter += int(original_id == most_similar_paraphrased_id)\n",
    "        \n",
    "    return correct_counter / len(gradient_similarities.keys())"
   ],
   "id": "49b47e2dd0569f16",
   "outputs": [],
   "execution_count": 50
  },
  {
   "metadata": {
    "ExecuteTime": {
     "end_time": "2024-12-11T22:41:44.960524Z",
     "start_time": "2024-12-11T22:41:44.950839Z"
    }
   },
   "cell_type": "code",
   "source": [
    "def get_wrong_decisions(gradient_similarities: dict):\n",
    "    wrong_decisions = []\n",
    "    \n",
    "    for original_id, similarities in gradient_similarities.items():\n",
    "        most_similar_paraphrased_id = max(similarities, key=similarities.get)\n",
    "        if original_id != most_similar_paraphrased_id:\n",
    "            wrong_decisions.append(original_id)\n",
    "\n",
    "    return wrong_decisions"
   ],
   "id": "a46e746fbdf1acee",
   "outputs": [],
   "execution_count": 51
  },
  {
   "metadata": {
    "ExecuteTime": {
     "end_time": "2024-12-11T22:41:45.053181Z",
     "start_time": "2024-12-11T22:41:45.043318Z"
    }
   },
   "cell_type": "code",
   "source": [
    "def get_mean_similarity_score_of_most_similar_samples(gradient_similarities: dict, mean_function = np.mean):\n",
    "    highest_similarities = []\n",
    "    \n",
    "    for original_id, similarities in gradient_similarities.items():\n",
    "        highest_similarities.append(max(similarities.values()))\n",
    "        \n",
    "    return mean_function(highest_similarities)"
   ],
   "id": "82d3ea1e5734f9d2",
   "outputs": [],
   "execution_count": 52
  },
  {
   "metadata": {
    "ExecuteTime": {
     "end_time": "2024-12-11T22:41:45.145907Z",
     "start_time": "2024-12-11T22:41:45.137810Z"
    }
   },
   "cell_type": "code",
   "source": "gradient_similarities_subset_5 = get_gradient_similarities_from_file(5)",
   "id": "a886876b6edc7233",
   "outputs": [],
   "execution_count": 53
  },
  {
   "metadata": {
    "ExecuteTime": {
     "end_time": "2024-12-11T22:41:45.244015Z",
     "start_time": "2024-12-11T22:41:45.233783Z"
    }
   },
   "cell_type": "code",
   "source": "calculate_score(gradient_similarities_subset_5)",
   "id": "b59e586334b80109",
   "outputs": [
    {
     "data": {
      "text/plain": [
       "1.0"
      ]
     },
     "execution_count": 54,
     "metadata": {},
     "output_type": "execute_result"
    }
   ],
   "execution_count": 54
  },
  {
   "metadata": {
    "ExecuteTime": {
     "end_time": "2024-12-11T22:41:45.489365Z",
     "start_time": "2024-12-11T22:41:45.478511Z"
    }
   },
   "cell_type": "code",
   "source": "gradient_similarities_subset_100 = get_gradient_similarities_from_file(100)",
   "id": "296eb6e0e1e7b5ea",
   "outputs": [],
   "execution_count": 55
  },
  {
   "metadata": {
    "ExecuteTime": {
     "end_time": "2024-12-11T22:41:45.610546Z",
     "start_time": "2024-12-11T22:41:45.599818Z"
    }
   },
   "cell_type": "code",
   "source": "calculate_score(gradient_similarities_subset_100)",
   "id": "94cda2adabde88c5",
   "outputs": [
    {
     "data": {
      "text/plain": [
       "0.99"
      ]
     },
     "execution_count": 56,
     "metadata": {},
     "output_type": "execute_result"
    }
   ],
   "execution_count": 56
  },
  {
   "metadata": {
    "ExecuteTime": {
     "end_time": "2024-12-11T22:41:45.815284Z",
     "start_time": "2024-12-11T22:41:45.803629Z"
    }
   },
   "cell_type": "code",
   "source": "get_wrong_decisions(gradient_similarities_subset_100)",
   "id": "f3efc84a88774b72",
   "outputs": [
    {
     "data": {
      "text/plain": [
       "['lima_70']"
      ]
     },
     "execution_count": 57,
     "metadata": {},
     "output_type": "execute_result"
    }
   ],
   "execution_count": 57
  },
  {
   "metadata": {
    "ExecuteTime": {
     "end_time": "2024-12-11T22:41:46.011107Z",
     "start_time": "2024-12-11T22:41:46.003662Z"
    }
   },
   "cell_type": "code",
   "source": "# bm25 made a mistake at lime_70",
   "id": "19f22e0bdcae77af",
   "outputs": [],
   "execution_count": 58
  },
  {
   "metadata": {
    "ExecuteTime": {
     "end_time": "2024-12-11T22:41:46.099410Z",
     "start_time": "2024-12-11T22:41:46.086934Z"
    }
   },
   "cell_type": "code",
   "source": "get_mean_similarity_score_of_most_similar_samples(gradient_similarities_subset_100)",
   "id": "1eb8f510d6598061",
   "outputs": [
    {
     "data": {
      "text/plain": [
       "np.float64(0.7384314449690282)"
      ]
     },
     "execution_count": 59,
     "metadata": {},
     "output_type": "execute_result"
    }
   ],
   "execution_count": 59
  },
  {
   "metadata": {
    "ExecuteTime": {
     "end_time": "2024-12-11T22:43:11.932842Z",
     "start_time": "2024-12-11T22:43:11.921961Z"
    }
   },
   "cell_type": "code",
   "source": "get_mean_similarity_score_of_most_similar_samples(gradient_similarities_subset_100, statistics.median)",
   "id": "feb1af5cb866f56e",
   "outputs": [
    {
     "data": {
      "text/plain": [
       "0.7357294261455536"
      ]
     },
     "execution_count": 62,
     "metadata": {},
     "output_type": "execute_result"
    }
   ],
   "execution_count": 62
  },
  {
   "metadata": {},
   "cell_type": "code",
   "outputs": [],
   "execution_count": null,
   "source": "",
   "id": "b8a32da55310e6d0"
  }
 ],
 "metadata": {
  "kernelspec": {
   "display_name": "Python 3",
   "language": "python",
   "name": "python3"
  },
  "language_info": {
   "codemirror_mode": {
    "name": "ipython",
    "version": 2
   },
   "file_extension": ".py",
   "mimetype": "text/x-python",
   "name": "python",
   "nbconvert_exporter": "python",
   "pygments_lexer": "ipython2",
   "version": "2.7.6"
  }
 },
 "nbformat": 4,
 "nbformat_minor": 5
}
