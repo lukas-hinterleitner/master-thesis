{
 "cells": [
  {
   "cell_type": "code",
   "id": "initial_id",
   "metadata": {
    "collapsed": true,
    "ExecuteTime": {
     "end_time": "2025-01-15T20:40:31.142084Z",
     "start_time": "2025-01-15T20:40:31.136686Z"
    }
   },
   "source": [
    "import json\n",
    "import statistics\n",
    "\n",
    "import numpy as np\n",
    "import seaborn as sns\n",
    "import matplotlib.pyplot as plt\n",
    "\n",
    "from utilities.storage import get_gradient_similarity_bm25_selected_file_path, get_gradient_similarity_bm25_selected_model_generated_file_path\n",
    "from utilities.config.model import MODEL_NAME"
   ],
   "outputs": [],
   "execution_count": 18
  },
  {
   "metadata": {
    "ExecuteTime": {
     "end_time": "2025-01-15T20:40:31.196708Z",
     "start_time": "2025-01-15T20:40:31.188409Z"
    }
   },
   "cell_type": "code",
   "source": [
    "def get_gradient_similarities_from_file(path_generation_function, sample_size: int):\n",
    "    with open(path_generation_function(MODEL_NAME, sample_size)) as f:\n",
    "        gradient_similarities = json.load(f)\n",
    "        f.close()\n",
    "        return gradient_similarities"
   ],
   "id": "2aa452c1d0d15031",
   "outputs": [],
   "execution_count": 19
  },
  {
   "metadata": {
    "ExecuteTime": {
     "end_time": "2025-01-15T20:40:31.256558Z",
     "start_time": "2025-01-15T20:40:31.245016Z"
    }
   },
   "cell_type": "code",
   "source": [
    "def calculate_score(gradient_similarities: dict):\n",
    "    correct_counter = 0\n",
    "    bm25_correct_counter = 0\n",
    "\n",
    "    size = len(gradient_similarities.keys())\n",
    "    \n",
    "    for original_id, similarities in gradient_similarities.items():\n",
    "        most_similar_paraphrased_id = max(similarities, key=similarities.get)\n",
    "        correct_counter += int(original_id == most_similar_paraphrased_id)\n",
    "\n",
    "        bm25_most_similar_paraphrased_id = list(similarities.keys())[0]\n",
    "        bm25_correct_counter += int(original_id == bm25_most_similar_paraphrased_id)\n",
    "        \n",
    "    return correct_counter / size, bm25_correct_counter / size"
   ],
   "id": "49b47e2dd0569f16",
   "outputs": [],
   "execution_count": 20
  },
  {
   "metadata": {
    "ExecuteTime": {
     "end_time": "2025-01-15T20:40:31.321629Z",
     "start_time": "2025-01-15T20:40:31.311781Z"
    }
   },
   "cell_type": "code",
   "source": [
    "def get_wrong_decisions(gradient_similarities: dict):\n",
    "    wrong_decisions = []\n",
    "    \n",
    "    for original_id, similarities in gradient_similarities.items():\n",
    "        most_similar_paraphrased_id = max(similarities, key=similarities.get)\n",
    "        if original_id != most_similar_paraphrased_id:\n",
    "            wrong_decisions.append(original_id)\n",
    "\n",
    "    return wrong_decisions"
   ],
   "id": "a46e746fbdf1acee",
   "outputs": [],
   "execution_count": 21
  },
  {
   "metadata": {
    "ExecuteTime": {
     "end_time": "2025-01-15T20:40:31.380377Z",
     "start_time": "2025-01-15T20:40:31.370787Z"
    }
   },
   "cell_type": "code",
   "source": [
    "def get_mean_similarity_score_of_most_similar_samples(gradient_similarities: dict, mean_function = np.mean):\n",
    "    highest_similarities = []\n",
    "    \n",
    "    for original_id, similarities in gradient_similarities.items():\n",
    "        highest_similarities.append(max(similarities.values()))\n",
    "        \n",
    "    return mean_function(highest_similarities)"
   ],
   "id": "82d3ea1e5734f9d2",
   "outputs": [],
   "execution_count": 22
  },
  {
   "metadata": {
    "ExecuteTime": {
     "end_time": "2025-01-15T20:40:31.439870Z",
     "start_time": "2025-01-15T20:40:31.430145Z"
    }
   },
   "cell_type": "code",
   "source": "gradient_similarities_subset_100 = get_gradient_similarities_from_file(get_gradient_similarity_bm25_selected_file_path, 100)",
   "id": "296eb6e0e1e7b5ea",
   "outputs": [],
   "execution_count": 23
  },
  {
   "metadata": {
    "ExecuteTime": {
     "end_time": "2025-01-15T20:40:31.503816Z",
     "start_time": "2025-01-15T20:40:31.490718Z"
    }
   },
   "cell_type": "code",
   "source": [
    "paraphrased_score, bm25_score = calculate_score(gradient_similarities_subset_100)\n",
    "paraphrased_score, bm25_score"
   ],
   "id": "94cda2adabde88c5",
   "outputs": [
    {
     "data": {
      "text/plain": [
       "(1.0, 0.99)"
      ]
     },
     "execution_count": 24,
     "metadata": {},
     "output_type": "execute_result"
    }
   ],
   "execution_count": 24
  },
  {
   "metadata": {
    "ExecuteTime": {
     "end_time": "2025-01-15T20:40:31.596817Z",
     "start_time": "2025-01-15T20:40:31.585822Z"
    }
   },
   "cell_type": "code",
   "source": "get_wrong_decisions(gradient_similarities_subset_100)",
   "id": "f3efc84a88774b72",
   "outputs": [
    {
     "data": {
      "text/plain": [
       "[]"
      ]
     },
     "execution_count": 25,
     "metadata": {},
     "output_type": "execute_result"
    }
   ],
   "execution_count": 25
  },
  {
   "metadata": {
    "ExecuteTime": {
     "end_time": "2025-01-15T20:40:31.690920Z",
     "start_time": "2025-01-15T20:40:31.684812Z"
    }
   },
   "cell_type": "code",
   "source": "# bm25 made a mistake at lime_70",
   "id": "19f22e0bdcae77af",
   "outputs": [],
   "execution_count": 26
  },
  {
   "metadata": {
    "ExecuteTime": {
     "end_time": "2025-01-15T20:40:31.755707Z",
     "start_time": "2025-01-15T20:40:31.743189Z"
    }
   },
   "cell_type": "code",
   "source": "get_mean_similarity_score_of_most_similar_samples(gradient_similarities_subset_100)",
   "id": "1eb8f510d6598061",
   "outputs": [
    {
     "data": {
      "text/plain": [
       "0.6546389150619507"
      ]
     },
     "execution_count": 27,
     "metadata": {},
     "output_type": "execute_result"
    }
   ],
   "execution_count": 27
  },
  {
   "metadata": {
    "ExecuteTime": {
     "end_time": "2025-01-15T20:40:31.847930Z",
     "start_time": "2025-01-15T20:40:31.837960Z"
    }
   },
   "cell_type": "code",
   "source": "get_mean_similarity_score_of_most_similar_samples(gradient_similarities_subset_100, statistics.median)",
   "id": "feb1af5cb866f56e",
   "outputs": [
    {
     "data": {
      "text/plain": [
       "0.634360671043396"
      ]
     },
     "execution_count": 28,
     "metadata": {},
     "output_type": "execute_result"
    }
   ],
   "execution_count": 28
  },
  {
   "metadata": {
    "ExecuteTime": {
     "end_time": "2025-01-15T20:40:31.947905Z",
     "start_time": "2025-01-15T20:40:31.939560Z"
    }
   },
   "cell_type": "code",
   "source": "gradient_similarities_model_generated_subset_100 = get_gradient_similarities_from_file(get_gradient_similarity_bm25_selected_model_generated_file_path, 100)",
   "id": "b8a32da55310e6d0",
   "outputs": [],
   "execution_count": 29
  },
  {
   "metadata": {
    "ExecuteTime": {
     "end_time": "2025-01-15T20:40:32.037700Z",
     "start_time": "2025-01-15T20:40:32.023935Z"
    }
   },
   "cell_type": "code",
   "source": [
    "paraphrased_model_generated_score, bm25_score = calculate_score(gradient_similarities_model_generated_subset_100)\n",
    "paraphrased_model_generated_score, bm25_score"
   ],
   "id": "f93fecc0bd253da",
   "outputs": [
    {
     "data": {
      "text/plain": [
       "(0.21, 0.99)"
      ]
     },
     "execution_count": 30,
     "metadata": {},
     "output_type": "execute_result"
    }
   ],
   "execution_count": 30
  },
  {
   "metadata": {
    "ExecuteTime": {
     "end_time": "2025-01-15T20:40:32.155416Z",
     "start_time": "2025-01-15T20:40:32.144209Z"
    }
   },
   "cell_type": "code",
   "source": "get_wrong_decisions(gradient_similarities_model_generated_subset_100)",
   "id": "9caf9684a33466b0",
   "outputs": [
    {
     "data": {
      "text/plain": [
       "['lima_0',\n",
       " 'lima_1',\n",
       " 'lima_2',\n",
       " 'lima_3',\n",
       " 'lima_4',\n",
       " 'lima_5',\n",
       " 'lima_7',\n",
       " 'lima_8',\n",
       " 'lima_9',\n",
       " 'lima_10',\n",
       " 'lima_11',\n",
       " 'lima_12',\n",
       " 'lima_13',\n",
       " 'lima_14',\n",
       " 'lima_16',\n",
       " 'lima_17',\n",
       " 'lima_18',\n",
       " 'lima_20',\n",
       " 'lima_21',\n",
       " 'lima_22',\n",
       " 'lima_24',\n",
       " 'lima_25',\n",
       " 'lima_26',\n",
       " 'lima_28',\n",
       " 'lima_30',\n",
       " 'lima_31',\n",
       " 'lima_32',\n",
       " 'lima_33',\n",
       " 'lima_34',\n",
       " 'lima_35',\n",
       " 'lima_37',\n",
       " 'lima_38',\n",
       " 'lima_39',\n",
       " 'lima_40',\n",
       " 'lima_41',\n",
       " 'lima_43',\n",
       " 'lima_44',\n",
       " 'lima_46',\n",
       " 'lima_48',\n",
       " 'lima_49',\n",
       " 'lima_50',\n",
       " 'lima_51',\n",
       " 'lima_52',\n",
       " 'lima_54',\n",
       " 'lima_56',\n",
       " 'lima_57',\n",
       " 'lima_58',\n",
       " 'lima_59',\n",
       " 'lima_60',\n",
       " 'lima_62',\n",
       " 'lima_63',\n",
       " 'lima_64',\n",
       " 'lima_65',\n",
       " 'lima_66',\n",
       " 'lima_67',\n",
       " 'lima_68',\n",
       " 'lima_69',\n",
       " 'lima_70',\n",
       " 'lima_73',\n",
       " 'lima_74',\n",
       " 'lima_75',\n",
       " 'lima_76',\n",
       " 'lima_77',\n",
       " 'lima_80',\n",
       " 'lima_81',\n",
       " 'lima_83',\n",
       " 'lima_84',\n",
       " 'lima_85',\n",
       " 'lima_86',\n",
       " 'lima_88',\n",
       " 'lima_89',\n",
       " 'lima_90',\n",
       " 'lima_92',\n",
       " 'lima_93',\n",
       " 'lima_94',\n",
       " 'lima_96',\n",
       " 'lima_97',\n",
       " 'lima_98',\n",
       " 'lima_99']"
      ]
     },
     "execution_count": 31,
     "metadata": {},
     "output_type": "execute_result"
    }
   ],
   "execution_count": 31
  },
  {
   "metadata": {
    "ExecuteTime": {
     "end_time": "2025-01-15T20:40:32.214263Z",
     "start_time": "2025-01-15T20:40:32.202945Z"
    }
   },
   "cell_type": "code",
   "source": "get_mean_similarity_score_of_most_similar_samples(gradient_similarities_model_generated_subset_100)",
   "id": "fd2c2318f6056ac1",
   "outputs": [
    {
     "data": {
      "text/plain": [
       "0.022327972546918318"
      ]
     },
     "execution_count": 32,
     "metadata": {},
     "output_type": "execute_result"
    }
   ],
   "execution_count": 32
  },
  {
   "metadata": {
    "ExecuteTime": {
     "end_time": "2025-01-15T20:40:32.280192Z",
     "start_time": "2025-01-15T20:40:32.267490Z"
    }
   },
   "cell_type": "code",
   "source": "get_mean_similarity_score_of_most_similar_samples(gradient_similarities_model_generated_subset_100, statistics.median)",
   "id": "5535d6ab6de98cbf",
   "outputs": [
    {
     "data": {
      "text/plain": [
       "0.013680477626621723"
      ]
     },
     "execution_count": 33,
     "metadata": {},
     "output_type": "execute_result"
    }
   ],
   "execution_count": 33
  },
  {
   "metadata": {
    "ExecuteTime": {
     "end_time": "2025-01-15T20:40:32.623068Z",
     "start_time": "2025-01-15T20:40:32.366716Z"
    }
   },
   "cell_type": "code",
   "source": [
    "# create bar plot with paraphrased_score, paraphrased_model_generated_score, and horizontal line at 0.2 baseline\n",
    "sns.barplot(x=[\"para_para <-> orig_orig\", \"para_gen <-> orig_orig\"], y=[paraphrased_score, paraphrased_model_generated_score])\n",
    "\n",
    "plt.axhline(y=0.2, color='r', linestyle='--', label=\"baseline\")\n",
    "plt.legend()\n",
    "plt.show()"
   ],
   "id": "6593cc520a43e49f",
   "outputs": [
    {
     "data": {
      "text/plain": [
       "<Figure size 640x480 with 1 Axes>"
      ],
      "image/png": "[encoded data removed]"
     },
     "metadata": {},
     "output_type": "display_data"
    }
   ],
   "execution_count": 34
  },
  {
   "metadata": {
    "ExecuteTime": {
     "end_time": "2025-01-15T20:40:32.654131Z",
     "start_time": "2025-01-15T20:40:32.647256Z"
    }
   },
   "cell_type": "code",
   "source": [
    "# optional: bm25 over query and answer\n",
    "\n",
    "\"\"\"\n",
    "Einteilung der Layer (attention layer, feed-forward layer, layer norm)\n",
    "\"\"\""
   ],
   "id": "f748239bd4cf0903",
   "outputs": [
    {
     "data": {
      "text/plain": [
       "'\\nEinteilung der Layer (attention layer, feed-forward layer, layer norm)\\n'"
      ]
     },
     "execution_count": 35,
     "metadata": {},
     "output_type": "execute_result"
    }
   ],
   "execution_count": 35
  }
 ],
 "metadata": {
  "kernelspec": {
   "display_name": "Python 3",
   "language": "python",
   "name": "python3"
  },
  "language_info": {
   "codemirror_mode": {
    "name": "ipython",
    "version": 2
   },
   "file_extension": ".py",
   "mimetype": "text/x-python",
   "name": "python",
   "nbconvert_exporter": "python",
   "pygments_lexer": "ipython2",
   "version": "2.7.6"
  }
 },
 "nbformat": 4,
 "nbformat_minor": 5
}
