{
 "cells": [
  {
   "cell_type": "code",
   "id": "initial_id",
   "metadata": {
    "collapsed": true,
    "ExecuteTime": {
     "end_time": "2024-12-13T16:00:46.316630Z",
     "start_time": "2024-12-13T16:00:46.314321Z"
    }
   },
   "source": [
    "from utilities.model import get_model, get_tokenizer\n",
    "from utilities.dataset import get_tokenized_datasets"
   ],
   "outputs": [],
   "execution_count": 7
  },
  {
   "metadata": {
    "ExecuteTime": {
     "end_time": "2024-12-13T16:00:47.042786Z",
     "start_time": "2024-12-13T16:00:46.361772Z"
    }
   },
   "cell_type": "code",
   "source": [
    "model = get_model(use_gpu=False)\n",
    "tokenizer = get_tokenizer()"
   ],
   "id": "56c255b9f73386a1",
   "outputs": [
    {
     "name": "stdout",
     "output_type": "stream",
     "text": [
      "Device: cpu\n",
      "Model parameters: 1176764416\n",
      "======================\n",
      "OlmoForCausalLM(\n",
      "  (model): OlmoModel(\n",
      "    (embed_tokens): Embedding(50304, 2048, padding_idx=1)\n",
      "    (layers): ModuleList(\n",
      "      (0-15): 16 x OlmoDecoderLayer(\n",
      "        (self_attn): OlmoSdpaAttention(\n",
      "          (q_proj): Linear(in_features=2048, out_features=2048, bias=False)\n",
      "          (k_proj): Linear(in_features=2048, out_features=2048, bias=False)\n",
      "          (v_proj): Linear(in_features=2048, out_features=2048, bias=False)\n",
      "          (o_proj): Linear(in_features=2048, out_features=2048, bias=False)\n",
      "          (rotary_emb): OlmoRotaryEmbedding()\n",
      "        )\n",
      "        (mlp): OlmoMLP(\n",
      "          (gate_proj): Linear(in_features=2048, out_features=8192, bias=False)\n",
      "          (up_proj): Linear(in_features=2048, out_features=8192, bias=False)\n",
      "          (down_proj): Linear(in_features=8192, out_features=2048, bias=False)\n",
      "          (act_fn): SiLU()\n",
      "        )\n",
      "        (input_layernorm): OlmoLayerNorm()\n",
      "        (post_attention_layernorm): OlmoLayerNorm()\n",
      "      )\n",
      "    )\n",
      "    (norm): OlmoLayerNorm()\n",
      "  )\n",
      "  (lm_head): Linear(in_features=2048, out_features=50304, bias=False)\n",
      ")\n"
     ]
    }
   ],
   "execution_count": 8
  },
  {
   "metadata": {
    "ExecuteTime": {
     "end_time": "2024-12-13T16:00:47.117194Z",
     "start_time": "2024-12-13T16:00:47.055069Z"
    }
   },
   "cell_type": "code",
   "source": "original_dataset_tokenized, paraphrased_dataset_tokenized = get_tokenized_datasets(model, tokenizer, sample_size=1)",
   "id": "983e8a9df3385b49",
   "outputs": [],
   "execution_count": 9
  },
  {
   "metadata": {
    "ExecuteTime": {
     "end_time": "2024-12-13T16:00:47.131305Z",
     "start_time": "2024-12-13T16:00:47.128610Z"
    }
   },
   "cell_type": "code",
   "source": [
    "prompt = original_dataset_tokenized[\"paraphrased_messages\"][0][0][\"content\"]\n",
    "prompt"
   ],
   "id": "5989f084258c4f15",
   "outputs": [
    {
     "data": {
      "text/plain": [
       "\"Are brain cells capable of moving? Specifically, I'm referring to long-distance migration, ideally occurring within the brain.\""
      ]
     },
     "execution_count": 10,
     "metadata": {},
     "output_type": "execute_result"
    }
   ],
   "execution_count": 10
  },
  {
   "metadata": {
    "ExecuteTime": {
     "end_time": "2024-12-13T16:00:47.177046Z",
     "start_time": "2024-12-13T16:00:47.173532Z"
    }
   },
   "cell_type": "code",
   "source": [
    "data = original_dataset_tokenized[\"paraphrased_messages\"][0]\n",
    "#data[1] = {}\n",
    "data = list(filter(lambda x: x[\"role\"] == \"user\", data))\n",
    "data"
   ],
   "id": "301a4c96f0a6595b",
   "outputs": [
    {
     "data": {
      "text/plain": [
       "[{'content': \"Are brain cells capable of moving? Specifically, I'm referring to long-distance migration, ideally occurring within the brain.\",\n",
       "  'role': 'user'}]"
      ]
     },
     "execution_count": 11,
     "metadata": {},
     "output_type": "execute_result"
    }
   ],
   "execution_count": 11
  },
  {
   "metadata": {
    "ExecuteTime": {
     "end_time": "2024-12-13T16:00:47.230388Z",
     "start_time": "2024-12-13T16:00:47.220017Z"
    }
   },
   "cell_type": "code",
   "source": "chat_template_applied = tokenizer.apply_chat_template([data], return_tensors=\"pt\", add_generation_prompt=True)",
   "id": "3c91bc8aa87f5d88",
   "outputs": [],
   "execution_count": 12
  },
  {
   "metadata": {
    "ExecuteTime": {
     "end_time": "2024-12-13T16:00:47.273216Z",
     "start_time": "2024-12-13T16:00:47.269733Z"
    }
   },
   "cell_type": "code",
   "source": "tokenizer.decode(chat_template_applied[0])",
   "id": "2ae44e8d30653ba9",
   "outputs": [
    {
     "data": {
      "text/plain": [
       "\"<|user|>\\nAre brain cells capable of moving? Specifically, I'm referring to long-distance migration, ideally occurring within the brain.\\n<|assistant|>\\n\""
      ]
     },
     "execution_count": 13,
     "metadata": {},
     "output_type": "execute_result"
    }
   ],
   "execution_count": 13
  },
  {
   "metadata": {
    "ExecuteTime": {
     "end_time": "2024-12-13T16:01:07.165570Z",
     "start_time": "2024-12-13T16:00:47.316783Z"
    }
   },
   "cell_type": "code",
   "source": "generation_2 = model.generate(chat_template_applied.to(model.device), max_new_tokens=512, do_sample=True)",
   "id": "c9c12c8233e04fa9",
   "outputs": [],
   "execution_count": 14
  },
  {
   "metadata": {
    "ExecuteTime": {
     "end_time": "2024-12-13T16:01:07.181713Z",
     "start_time": "2024-12-13T16:01:07.179344Z"
    }
   },
   "cell_type": "code",
   "source": "decoded = tokenizer.decode(generation_2[0])",
   "id": "7afbc94755c8a130",
   "outputs": [],
   "execution_count": 15
  },
  {
   "metadata": {
    "ExecuteTime": {
     "end_time": "2024-12-13T16:01:07.225371Z",
     "start_time": "2024-12-13T16:01:07.222161Z"
    }
   },
   "cell_type": "code",
   "source": "decoded",
   "id": "8f61f2966d174ff5",
   "outputs": [
    {
     "data": {
      "text/plain": [
       "\"<|user|>\\nAre brain cells capable of moving? Specifically, I'm referring to long-distance migration, ideally occurring within the brain.\\n<|assistant|>\\nWhile brain cells are highly specialized and have well-established movements, their motion is limited to the most superficial layers, with the exception of certain areas and specific time patterns that allow for some movement. Studies in animals, like elephants (Dauria: Elephantus), have observed that brain cells can exhibit random activity patterns during sleep; however, they primarily move in narrow tracks rather than in organized wave-like patterns. This indicates that brain migration within the brain may not surpass the speed of light. For more detailed information on cognitive and neural changes during sleep, you can refer to this research paper.|||IP_ADDRESS|||\""
      ]
     },
     "execution_count": 16,
     "metadata": {},
     "output_type": "execute_result"
    }
   ],
   "execution_count": 16
  },
  {
   "metadata": {
    "ExecuteTime": {
     "end_time": "2024-12-13T16:01:07.271824Z",
     "start_time": "2024-12-13T16:01:07.269580Z"
    }
   },
   "cell_type": "code",
   "source": [
    "USER_TOKEN = \"<|user|>\\n\"\n",
    "ASSISTANT_TOKEN = \"\\n<|assistant|>\\n\"\n",
    "EOS_TOKEN = tokenizer.eos_token"
   ],
   "id": "740f8ce57f4627e",
   "outputs": [],
   "execution_count": 17
  },
  {
   "metadata": {
    "ExecuteTime": {
     "end_time": "2024-12-13T16:01:07.319339Z",
     "start_time": "2024-12-13T16:01:07.315718Z"
    }
   },
   "cell_type": "code",
   "source": [
    "# Extract user message\n",
    "start_user = decoded.find(USER_TOKEN) + len(USER_TOKEN)\n",
    "end_user = decoded.find(ASSISTANT_TOKEN)\n",
    "user_message = decoded[start_user:end_user].strip()\n",
    "\n",
    "# Extract assistant message\n",
    "start_assistant = end_user + len(ASSISTANT_TOKEN)\n",
    "end_assistant = decoded.find(EOS_TOKEN)\n",
    "assistant_message = decoded[start_assistant:end_assistant].strip()\n",
    "\n",
    "print(\"User Message:\", user_message)\n",
    "print(\"======\")\n",
    "print(\"Assistant Message:\", assistant_message)\n"
   ],
   "id": "73793f3992f80417",
   "outputs": [
    {
     "name": "stdout",
     "output_type": "stream",
     "text": [
      "User Message: Are brain cells capable of moving? Specifically, I'm referring to long-distance migration, ideally occurring within the brain.\n",
      "======\n",
      "Assistant Message: While brain cells are highly specialized and have well-established movements, their motion is limited to the most superficial layers, with the exception of certain areas and specific time patterns that allow for some movement. Studies in animals, like elephants (Dauria: Elephantus), have observed that brain cells can exhibit random activity patterns during sleep; however, they primarily move in narrow tracks rather than in organized wave-like patterns. This indicates that brain migration within the brain may not surpass the speed of light. For more detailed information on cognitive and neural changes during sleep, you can refer to this research paper.\n"
     ]
    }
   ],
   "execution_count": 18
  }
 ],
 "metadata": {
  "kernelspec": {
   "display_name": "Python 3",
   "language": "python",
   "name": "python3"
  },
  "language_info": {
   "codemirror_mode": {
    "name": "ipython",
    "version": 2
   },
   "file_extension": ".py",
   "mimetype": "text/x-python",
   "name": "python",
   "nbconvert_exporter": "python",
   "pygments_lexer": "ipython2",
   "version": "2.7.6"
  }
 },
 "nbformat": 4,
 "nbformat_minor": 5
}
