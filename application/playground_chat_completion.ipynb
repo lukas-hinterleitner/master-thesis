{
 "cells": [
  {
   "cell_type": "code",
   "id": "initial_id",
   "metadata": {
    "collapsed": true,
    "ExecuteTime": {
     "end_time": "2024-12-13T12:04:23.665508Z",
     "start_time": "2024-12-13T12:04:21.409848Z"
    }
   },
   "source": [
    "from utilities.model import get_model, get_tokenizer\n",
    "from utilities.dataset import get_tokenized_datasets"
   ],
   "outputs": [],
   "execution_count": 1
  },
  {
   "metadata": {
    "ExecuteTime": {
     "end_time": "2024-12-13T12:44:33.219699Z",
     "start_time": "2024-12-13T12:44:32.419938Z"
    }
   },
   "cell_type": "code",
   "source": [
    "model = get_model(use_gpu=True)\n",
    "tokenizer = get_tokenizer()"
   ],
   "id": "56c255b9f73386a1",
   "outputs": [
    {
     "name": "stdout",
     "output_type": "stream",
     "text": [
      "Device: cpu\n",
      "Model parameters: 1176764416\n",
      "======================\n",
      "OlmoForCausalLM(\n",
      "  (model): OlmoModel(\n",
      "    (embed_tokens): Embedding(50304, 2048, padding_idx=1)\n",
      "    (layers): ModuleList(\n",
      "      (0-15): 16 x OlmoDecoderLayer(\n",
      "        (self_attn): OlmoSdpaAttention(\n",
      "          (q_proj): Linear(in_features=2048, out_features=2048, bias=False)\n",
      "          (k_proj): Linear(in_features=2048, out_features=2048, bias=False)\n",
      "          (v_proj): Linear(in_features=2048, out_features=2048, bias=False)\n",
      "          (o_proj): Linear(in_features=2048, out_features=2048, bias=False)\n",
      "          (rotary_emb): OlmoRotaryEmbedding()\n",
      "        )\n",
      "        (mlp): OlmoMLP(\n",
      "          (gate_proj): Linear(in_features=2048, out_features=8192, bias=False)\n",
      "          (up_proj): Linear(in_features=2048, out_features=8192, bias=False)\n",
      "          (down_proj): Linear(in_features=8192, out_features=2048, bias=False)\n",
      "          (act_fn): SiLU()\n",
      "        )\n",
      "        (input_layernorm): OlmoLayerNorm()\n",
      "        (post_attention_layernorm): OlmoLayerNorm()\n",
      "      )\n",
      "    )\n",
      "    (norm): OlmoLayerNorm()\n",
      "  )\n",
      "  (lm_head): Linear(in_features=2048, out_features=50304, bias=False)\n",
      ")\n"
     ]
    }
   ],
   "execution_count": 67
  },
  {
   "metadata": {
    "ExecuteTime": {
     "end_time": "2024-12-13T12:08:54.214253Z",
     "start_time": "2024-12-13T12:08:52.013944Z"
    }
   },
   "cell_type": "code",
   "source": "original_dataset_tokenized, paraphrased_dataset_tokenized = get_tokenized_datasets(model, tokenizer, sample_size=1)",
   "id": "983e8a9df3385b49",
   "outputs": [
    {
     "data": {
      "text/plain": [
       "Tokenizing and reformatting SFT data:   0%|          | 0/1 [00:00<?, ? examples/s]"
      ],
      "application/vnd.jupyter.widget-view+json": {
       "version_major": 2,
       "version_minor": 0,
       "model_id": "329dd145e17344d595f846ea1a409af7"
      }
     },
     "metadata": {},
     "output_type": "display_data"
    },
    {
     "data": {
      "text/plain": [
       "Tokenizing and reformatting SFT data (num_proc=2):   0%|          | 0/988 [00:00<?, ? examples/s]"
      ],
      "application/vnd.jupyter.widget-view+json": {
       "version_major": 2,
       "version_minor": 0,
       "model_id": "2ba939015aac48109a1748ed79baec7d"
      }
     },
     "metadata": {},
     "output_type": "display_data"
    }
   ],
   "execution_count": 3
  },
  {
   "metadata": {
    "ExecuteTime": {
     "end_time": "2024-12-13T12:14:25.155070Z",
     "start_time": "2024-12-13T12:14:25.151385Z"
    }
   },
   "cell_type": "code",
   "source": [
    "prompt = original_dataset_tokenized[\"paraphrased_messages\"][0][0][\"content\"]\n",
    "prompt"
   ],
   "id": "5989f084258c4f15",
   "outputs": [
    {
     "data": {
      "text/plain": [
       "\"Are brain cells capable of moving? Specifically, I'm referring to long-distance migration, ideally occurring within the brain.\""
      ]
     },
     "execution_count": 16,
     "metadata": {},
     "output_type": "execute_result"
    }
   ],
   "execution_count": 16
  },
  {
   "metadata": {
    "ExecuteTime": {
     "end_time": "2024-12-13T12:23:19.113507Z",
     "start_time": "2024-12-13T12:23:19.108146Z"
    }
   },
   "cell_type": "code",
   "source": [
    "tokenized = tokenizer([prompt], return_tensors=\"pt\")\n",
    "tokenized"
   ],
   "id": "dcde05a093e24ac7",
   "outputs": [
    {
     "data": {
      "text/plain": [
       "{'input_ids': tensor([[ 6723,  3998,  1341,  7032,   273,  4886,    32, 13658,    13,   309,\n",
       "          1353, 14339,   281,  1048,    14, 19893, 10346,    13, 34243, 12952,\n",
       "          1561,   253,  3998,    15]]), 'attention_mask': tensor([[1, 1, 1, 1, 1, 1, 1, 1, 1, 1, 1, 1, 1, 1, 1, 1, 1, 1, 1, 1, 1, 1, 1, 1]])}"
      ]
     },
     "execution_count": 23,
     "metadata": {},
     "output_type": "execute_result"
    }
   ],
   "execution_count": 23
  },
  {
   "metadata": {
    "ExecuteTime": {
     "end_time": "2024-12-13T12:39:11.851788Z",
     "start_time": "2024-12-13T12:39:11.848283Z"
    }
   },
   "cell_type": "code",
   "source": "tokenized.input_ids.data",
   "id": "de386d4c05633bd9",
   "outputs": [
    {
     "data": {
      "text/plain": [
       "tensor([[ 6723,  3998,  1341,  7032,   273,  4886,    32, 13658,    13,   309,\n",
       "          1353, 14339,   281,  1048,    14, 19893, 10346,    13, 34243, 12952,\n",
       "          1561,   253,  3998,    15]])"
      ]
     },
     "execution_count": 58,
     "metadata": {},
     "output_type": "execute_result"
    }
   ],
   "execution_count": 58
  },
  {
   "metadata": {
    "ExecuteTime": {
     "end_time": "2024-12-13T12:24:15.422446Z",
     "start_time": "2024-12-13T12:23:20.582716Z"
    }
   },
   "cell_type": "code",
   "source": "generation = model.generate(tokenized.input_ids.to(model.device), max_new_tokens=512)",
   "id": "4e1f89185f88dd3",
   "outputs": [],
   "execution_count": 24
  },
  {
   "metadata": {
    "ExecuteTime": {
     "end_time": "2024-12-13T12:44:36.575801Z",
     "start_time": "2024-12-13T12:44:36.572643Z"
    }
   },
   "cell_type": "code",
   "source": "model.device",
   "id": "e1bfebd541c468b1",
   "outputs": [
    {
     "data": {
      "text/plain": [
       "device(type='cpu')"
      ]
     },
     "execution_count": 68,
     "metadata": {},
     "output_type": "execute_result"
    }
   ],
   "execution_count": 68
  },
  {
   "metadata": {
    "ExecuteTime": {
     "end_time": "2024-12-13T12:37:47.231249Z",
     "start_time": "2024-12-13T12:37:47.220325Z"
    }
   },
   "cell_type": "code",
   "source": "generation",
   "id": "7bac95f27f3c8e22",
   "outputs": [
    {
     "data": {
      "text/plain": [
       "tensor([[ 6723,  3998,  1341,  7032,   273,  4886,    32, 13658,    13,   309,\n",
       "          1353, 14339,   281,  1048,    14, 19893, 10346,    13, 34243, 12952,\n",
       "          1561,   253,  3998,    15,   187,   187,   510,  3662,   281,   436,\n",
       "          1953,   310,  4390,  7202,    15,  1723,    13,   352,   310,  6566,\n",
       "           326,  3998,  1341,    13,   824,   347,  8512,    13,   513,   452,\n",
       "           253,  3745,   281,  2118,    15,   831,  4866,   310,  1869,   281,\n",
       "           320, 30199,   407,   253,  3727,   273, 34254,  2225,  1336,    13,\n",
       "           534,   403,  5793,  4840, 12449,   326, 13185,  6298,   875,  8512,\n",
       "            15,   187,   187,  6560,  1822,  3675,  2225,  1336,   403,  4439,\n",
       "           432,   253,   838, 35692, 23586,   285,  4288,   949,   253, 21066,\n",
       "         45793,   281,   253,  9319, 35692, 23586,    15,   380,  9319, 35692,\n",
       "         23586,   840, 14488,   253, 34254, 34242,   285,  4870,   253,  1491,\n",
       "            15,   187,   187,   510,  4866,   273,  8512,   310,  5667,   323,\n",
       "          2710,  3470,    13,  1690,  5511,    13,  4715,    13,   285,  3541,\n",
       "            15,   733,   310,   671,  1869,   281,  1132,   247,  2554,   275,\n",
       "           253,  2440,   285,  9363,   273,   253,  3998,    15,   187,   187,\n",
       "          6175,   253,  3242,  6297,   273,  1048,    14, 19893,  3998,   894,\n",
       "         10346,   403,   417,  4751,  7192,    13,   352,   310,  2590,   326,\n",
       "           253,  3745,   273,  8512,   281,  2118,   310,   247,  7936,  4809,\n",
       "           273,  3998,  1159,    15, 50279]])"
      ]
     },
     "execution_count": 52,
     "metadata": {},
     "output_type": "execute_result"
    }
   ],
   "execution_count": 52
  },
  {
   "metadata": {
    "ExecuteTime": {
     "end_time": "2024-12-13T12:25:04.022697Z",
     "start_time": "2024-12-13T12:25:04.019385Z"
    }
   },
   "cell_type": "code",
   "source": [
    "output = tokenizer.decode(generation[0]).replace(tokenizer.eos_token, \"\")\n",
    "output"
   ],
   "id": "760cd692f4183697",
   "outputs": [
    {
     "data": {
      "text/plain": [
       "\"Are brain cells capable of moving? Specifically, I'm referring to long-distance migration, ideally occurring within the brain.\\n\\nThe answer to this question is currently unknown. However, it is believed that brain cells, such as neurons, do have the ability to move. This movement is thought to be facilitated by the release of neurotransmitters, which are chemical messengers that transmit signals between neurons.\\n\\nNeurotransmitters are released from the presynaptic neuron and travel through the synaptic cleft to the postsynaptic neuron. The postsynaptic neuron then receives the neurotransmitter and processes the information.\\n\\nThe movement of neurons is essential for various functions, including communication, learning, and memory. It is also thought to play a role in the development and maintenance of the brain.\\n\\nWhile the exact mechanisms of long-distance brain cell migration are not fully understood, it is clear that the ability of neurons to move is a fundamental aspect of brain function.\""
      ]
     },
     "execution_count": 28,
     "metadata": {},
     "output_type": "execute_result"
    }
   ],
   "execution_count": 28
  },
  {
   "metadata": {
    "ExecuteTime": {
     "end_time": "2024-12-13T12:33:30.175452Z",
     "start_time": "2024-12-13T12:33:30.171745Z"
    }
   },
   "cell_type": "code",
   "source": [
    "data = original_dataset_tokenized[\"paraphrased_messages\"][0]\n",
    "#data[1] = {}\n",
    "del data[1]\n",
    "data"
   ],
   "id": "301a4c96f0a6595b",
   "outputs": [
    {
     "data": {
      "text/plain": [
       "[{'content': \"Are brain cells capable of moving? Specifically, I'm referring to long-distance migration, ideally occurring within the brain.\",\n",
       "  'role': 'user'}]"
      ]
     },
     "execution_count": 37,
     "metadata": {},
     "output_type": "execute_result"
    }
   ],
   "execution_count": 37
  },
  {
   "metadata": {
    "ExecuteTime": {
     "end_time": "2024-12-13T12:38:15.430904Z",
     "start_time": "2024-12-13T12:38:15.428276Z"
    }
   },
   "cell_type": "code",
   "source": "chat_template_applied = tokenizer.apply_chat_template([data], return_tensors=\"pt\")",
   "id": "3c91bc8aa87f5d88",
   "outputs": [],
   "execution_count": 54
  },
  {
   "metadata": {
    "ExecuteTime": {
     "end_time": "2024-12-13T12:39:24.812968Z",
     "start_time": "2024-12-13T12:39:24.808361Z"
    }
   },
   "cell_type": "code",
   "source": "chat_template_applied.data",
   "id": "18bbeff5caf60729",
   "outputs": [
    {
     "data": {
      "text/plain": [
       "tensor([[   29,    93,  4537, 49651,   187,  6723,  3998,  1341,  7032,   273,\n",
       "          4886,    32, 13658,    13,   309,  1353, 14339,   281,  1048,    14,\n",
       "         19893, 10346,    13, 34243, 12952,  1561,   253,  3998,    15,   187]])"
      ]
     },
     "execution_count": 59,
     "metadata": {},
     "output_type": "execute_result"
    }
   ],
   "execution_count": 59
  },
  {
   "metadata": {
    "ExecuteTime": {
     "end_time": "2024-12-13T12:41:48.166903Z",
     "start_time": "2024-12-13T12:40:20.616095Z"
    }
   },
   "cell_type": "code",
   "source": "generation_2 = model.generate(chat_template_applied.to(model.device), max_new_tokens=512)",
   "id": "c9c12c8233e04fa9",
   "outputs": [],
   "execution_count": 60
  },
  {
   "metadata": {
    "ExecuteTime": {
     "end_time": "2024-12-13T12:42:25.821723Z",
     "start_time": "2024-12-13T12:42:25.818129Z"
    }
   },
   "cell_type": "code",
   "source": "tokenizer.decode(generation_2[0])",
   "id": "7afbc94755c8a130",
   "outputs": [
    {
     "data": {
      "text/plain": [
       "\"<|user|>\\nAre brain cells capable of moving? Specifically, I'm referring to long-distance migration, ideally occurring within the brain.\\n\\nThe question of whether brain cells can move is a complex one, as it involves both cellular and molecular aspects. While it's true that neurons, the specialized cells of the brain, can move within the brain, this movement is not a simple process. Neurons are highly specialized and have a limited range of motion.\\n\\nThe movement of neurons is facilitated by the release of neurotransmitters, which act as chemical messengers. These neurotransmitters bind to receptors on the dendrites of neighboring neurons, causing them to move in response. However, this movement is not a continuous or coordinated process, and it's not clear whether it occurs within the brain itself.\\n\\nIn addition to neurons, other cells in the brain, such as astrocytes and microglia, also have the ability to move. Astrocytes are responsible for maintaining the blood-brain barrier and providing support to neurons, while microglia are involved in immune responses and neuroprotection.\\n\\nWhile the movement of brain cells is not as well understood as the movement of neurons, it is clear that they have the ability to move within the brain. This movement is facilitated by the release of neurotransmitters and the interaction of various cell types.\\n####\\nBrain cells, including neurons, can move within the brain, but this movement is not a continuous or coordinated process.|||IP_ADDRESS|||\""
      ]
     },
     "execution_count": 64,
     "metadata": {},
     "output_type": "execute_result"
    }
   ],
   "execution_count": 64
  }
 ],
 "metadata": {
  "kernelspec": {
   "display_name": "Python 3",
   "language": "python",
   "name": "python3"
  },
  "language_info": {
   "codemirror_mode": {
    "name": "ipython",
    "version": 2
   },
   "file_extension": ".py",
   "mimetype": "text/x-python",
   "name": "python",
   "nbconvert_exporter": "python",
   "pygments_lexer": "ipython2",
   "version": "2.7.6"
  }
 },
 "nbformat": 4,
 "nbformat_minor": 5
}
